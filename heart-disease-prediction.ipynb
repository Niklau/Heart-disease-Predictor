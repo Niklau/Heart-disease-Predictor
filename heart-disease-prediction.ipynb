{
 "cells": [
  {
   "cell_type": "markdown",
   "id": "ed8f9ccd",
   "metadata": {
    "papermill": {
     "duration": 0.035684,
     "end_time": "2022-06-18T07:21:50.566418",
     "exception": false,
     "start_time": "2022-06-18T07:21:50.530734",
     "status": "completed"
    },
    "tags": []
   },
   "source": [
    "EXPLORATORY DATA ANALYSIS PART 1"
   ]
  },
  {
   "cell_type": "markdown",
   "id": "1e529144",
   "metadata": {
    "papermill": {
     "duration": 0.03298,
     "end_time": "2022-06-18T07:21:50.633714",
     "exception": false,
     "start_time": "2022-06-18T07:21:50.600734",
     "status": "completed"
    },
    "tags": []
   },
   "source": [
    "1. Load Dataset"
   ]
  },
  {
   "cell_type": "code",
   "execution_count": 1,
   "id": "ae523e34",
   "metadata": {
    "execution": {
     "iopub.execute_input": "2022-06-18T07:21:50.706900Z",
     "iopub.status.busy": "2022-06-18T07:21:50.704584Z",
     "iopub.status.idle": "2022-06-18T07:21:51.855549Z",
     "shell.execute_reply": "2022-06-18T07:21:51.854413Z",
     "shell.execute_reply.started": "2022-04-15T09:57:15.544896Z"
    },
    "papermill": {
     "duration": 1.188869,
     "end_time": "2022-06-18T07:21:51.855735",
     "exception": false,
     "start_time": "2022-06-18T07:21:50.666866",
     "status": "completed"
    },
    "tags": []
   },
   "outputs": [],
   "source": [
    "#import basic dependencies\n",
    "import pandas as pd\n",
    "import numpy as np\n",
    "import seaborn as sn\n",
    "import matplotlib.pyplot as plt\n",
    "%matplotlib inline\n",
    "from scipy import stats"
   ]
  },
  {
   "cell_type": "code",
   "execution_count": 2,
   "id": "f2be8721",
   "metadata": {
    "execution": {
     "iopub.execute_input": "2022-06-18T07:21:51.925315Z",
     "iopub.status.busy": "2022-06-18T07:21:51.924570Z",
     "iopub.status.idle": "2022-06-18T07:21:51.968026Z",
     "shell.execute_reply": "2022-06-18T07:21:51.968543Z",
     "shell.execute_reply.started": "2022-04-15T09:57:16.475995Z"
    },
    "papermill": {
     "duration": 0.079308,
     "end_time": "2022-06-18T07:21:51.968719",
     "exception": false,
     "start_time": "2022-06-18T07:21:51.889411",
     "status": "completed"
    },
    "tags": []
   },
   "outputs": [
    {
     "data": {
      "text/html": [
       "<div>\n",
       "<style scoped>\n",
       "    .dataframe tbody tr th:only-of-type {\n",
       "        vertical-align: middle;\n",
       "    }\n",
       "\n",
       "    .dataframe tbody tr th {\n",
       "        vertical-align: top;\n",
       "    }\n",
       "\n",
       "    .dataframe thead th {\n",
       "        text-align: right;\n",
       "    }\n",
       "</style>\n",
       "<table border=\"1\" class=\"dataframe\">\n",
       "  <thead>\n",
       "    <tr style=\"text-align: right;\">\n",
       "      <th></th>\n",
       "      <th>age</th>\n",
       "      <th>sex</th>\n",
       "      <th>cp</th>\n",
       "      <th>trestbps</th>\n",
       "      <th>chol</th>\n",
       "      <th>fbs</th>\n",
       "      <th>restecg</th>\n",
       "      <th>thalach</th>\n",
       "      <th>exang</th>\n",
       "      <th>oldpeak</th>\n",
       "      <th>slope</th>\n",
       "      <th>ca</th>\n",
       "      <th>thal</th>\n",
       "      <th>target</th>\n",
       "    </tr>\n",
       "  </thead>\n",
       "  <tbody>\n",
       "    <tr>\n",
       "      <th>0</th>\n",
       "      <td>63</td>\n",
       "      <td>1</td>\n",
       "      <td>3</td>\n",
       "      <td>145</td>\n",
       "      <td>233</td>\n",
       "      <td>1</td>\n",
       "      <td>0</td>\n",
       "      <td>150</td>\n",
       "      <td>0</td>\n",
       "      <td>2.3</td>\n",
       "      <td>0</td>\n",
       "      <td>0</td>\n",
       "      <td>1</td>\n",
       "      <td>1</td>\n",
       "    </tr>\n",
       "    <tr>\n",
       "      <th>1</th>\n",
       "      <td>37</td>\n",
       "      <td>1</td>\n",
       "      <td>2</td>\n",
       "      <td>130</td>\n",
       "      <td>250</td>\n",
       "      <td>0</td>\n",
       "      <td>1</td>\n",
       "      <td>187</td>\n",
       "      <td>0</td>\n",
       "      <td>3.5</td>\n",
       "      <td>0</td>\n",
       "      <td>0</td>\n",
       "      <td>2</td>\n",
       "      <td>1</td>\n",
       "    </tr>\n",
       "    <tr>\n",
       "      <th>2</th>\n",
       "      <td>41</td>\n",
       "      <td>0</td>\n",
       "      <td>1</td>\n",
       "      <td>130</td>\n",
       "      <td>204</td>\n",
       "      <td>0</td>\n",
       "      <td>0</td>\n",
       "      <td>172</td>\n",
       "      <td>0</td>\n",
       "      <td>1.4</td>\n",
       "      <td>2</td>\n",
       "      <td>0</td>\n",
       "      <td>2</td>\n",
       "      <td>1</td>\n",
       "    </tr>\n",
       "    <tr>\n",
       "      <th>3</th>\n",
       "      <td>56</td>\n",
       "      <td>1</td>\n",
       "      <td>1</td>\n",
       "      <td>120</td>\n",
       "      <td>236</td>\n",
       "      <td>0</td>\n",
       "      <td>1</td>\n",
       "      <td>178</td>\n",
       "      <td>0</td>\n",
       "      <td>0.8</td>\n",
       "      <td>2</td>\n",
       "      <td>0</td>\n",
       "      <td>2</td>\n",
       "      <td>1</td>\n",
       "    </tr>\n",
       "    <tr>\n",
       "      <th>4</th>\n",
       "      <td>57</td>\n",
       "      <td>0</td>\n",
       "      <td>0</td>\n",
       "      <td>120</td>\n",
       "      <td>354</td>\n",
       "      <td>0</td>\n",
       "      <td>1</td>\n",
       "      <td>163</td>\n",
       "      <td>1</td>\n",
       "      <td>0.6</td>\n",
       "      <td>2</td>\n",
       "      <td>0</td>\n",
       "      <td>2</td>\n",
       "      <td>1</td>\n",
       "    </tr>\n",
       "  </tbody>\n",
       "</table>\n",
       "</div>"
      ],
      "text/plain": [
       "   age  sex  cp  trestbps  chol  fbs  restecg  thalach  exang  oldpeak  slope  \\\n",
       "0   63    1   3       145   233    1        0      150      0      2.3      0   \n",
       "1   37    1   2       130   250    0        1      187      0      3.5      0   \n",
       "2   41    0   1       130   204    0        0      172      0      1.4      2   \n",
       "3   56    1   1       120   236    0        1      178      0      0.8      2   \n",
       "4   57    0   0       120   354    0        1      163      1      0.6      2   \n",
       "\n",
       "   ca  thal  target  \n",
       "0   0     1       1  \n",
       "1   0     2       1  \n",
       "2   0     2       1  \n",
       "3   0     2       1  \n",
       "4   0     2       1  "
      ]
     },
     "execution_count": 2,
     "metadata": {},
     "output_type": "execute_result"
    }
   ],
   "source": [
    "#read the dataset\n",
    "df = pd.read_csv('../input/heart-disease-dataset/heart.csv')\n",
    "df.head()"
   ]
  },
  {
   "cell_type": "code",
   "execution_count": 3,
   "id": "6294b5a9",
   "metadata": {
    "execution": {
     "iopub.execute_input": "2022-06-18T07:21:52.040944Z",
     "iopub.status.busy": "2022-06-18T07:21:52.040330Z",
     "iopub.status.idle": "2022-06-18T07:21:52.045008Z",
     "shell.execute_reply": "2022-06-18T07:21:52.045538Z",
     "shell.execute_reply.started": "2022-04-15T09:57:16.507632Z"
    },
    "papermill": {
     "duration": 0.042809,
     "end_time": "2022-06-18T07:21:52.045713",
     "exception": false,
     "start_time": "2022-06-18T07:21:52.002904",
     "status": "completed"
    },
    "tags": []
   },
   "outputs": [
    {
     "data": {
      "text/plain": [
       "(303, 14)"
      ]
     },
     "execution_count": 3,
     "metadata": {},
     "output_type": "execute_result"
    }
   ],
   "source": [
    "df.shape"
   ]
  },
  {
   "cell_type": "code",
   "execution_count": 4,
   "id": "77cacf06",
   "metadata": {
    "execution": {
     "iopub.execute_input": "2022-06-18T07:21:52.116980Z",
     "iopub.status.busy": "2022-06-18T07:21:52.116340Z",
     "iopub.status.idle": "2022-06-18T07:21:52.174996Z",
     "shell.execute_reply": "2022-06-18T07:21:52.175516Z",
     "shell.execute_reply.started": "2022-04-15T09:57:16.517208Z"
    },
    "papermill": {
     "duration": 0.095559,
     "end_time": "2022-06-18T07:21:52.175696",
     "exception": false,
     "start_time": "2022-06-18T07:21:52.080137",
     "status": "completed"
    },
    "tags": []
   },
   "outputs": [
    {
     "data": {
      "text/html": [
       "<div>\n",
       "<style scoped>\n",
       "    .dataframe tbody tr th:only-of-type {\n",
       "        vertical-align: middle;\n",
       "    }\n",
       "\n",
       "    .dataframe tbody tr th {\n",
       "        vertical-align: top;\n",
       "    }\n",
       "\n",
       "    .dataframe thead th {\n",
       "        text-align: right;\n",
       "    }\n",
       "</style>\n",
       "<table border=\"1\" class=\"dataframe\">\n",
       "  <thead>\n",
       "    <tr style=\"text-align: right;\">\n",
       "      <th></th>\n",
       "      <th>age</th>\n",
       "      <th>sex</th>\n",
       "      <th>cp</th>\n",
       "      <th>trestbps</th>\n",
       "      <th>chol</th>\n",
       "      <th>fbs</th>\n",
       "      <th>restecg</th>\n",
       "      <th>thalach</th>\n",
       "      <th>exang</th>\n",
       "      <th>oldpeak</th>\n",
       "      <th>slope</th>\n",
       "      <th>ca</th>\n",
       "      <th>thal</th>\n",
       "      <th>target</th>\n",
       "    </tr>\n",
       "  </thead>\n",
       "  <tbody>\n",
       "    <tr>\n",
       "      <th>count</th>\n",
       "      <td>303.000000</td>\n",
       "      <td>303.000000</td>\n",
       "      <td>303.000000</td>\n",
       "      <td>303.000000</td>\n",
       "      <td>303.000000</td>\n",
       "      <td>303.000000</td>\n",
       "      <td>303.000000</td>\n",
       "      <td>303.000000</td>\n",
       "      <td>303.000000</td>\n",
       "      <td>303.000000</td>\n",
       "      <td>303.000000</td>\n",
       "      <td>303.000000</td>\n",
       "      <td>303.000000</td>\n",
       "      <td>303.000000</td>\n",
       "    </tr>\n",
       "    <tr>\n",
       "      <th>mean</th>\n",
       "      <td>54.366337</td>\n",
       "      <td>0.683168</td>\n",
       "      <td>0.966997</td>\n",
       "      <td>131.623762</td>\n",
       "      <td>246.264026</td>\n",
       "      <td>0.148515</td>\n",
       "      <td>0.528053</td>\n",
       "      <td>149.646865</td>\n",
       "      <td>0.326733</td>\n",
       "      <td>1.039604</td>\n",
       "      <td>1.399340</td>\n",
       "      <td>0.729373</td>\n",
       "      <td>2.313531</td>\n",
       "      <td>0.544554</td>\n",
       "    </tr>\n",
       "    <tr>\n",
       "      <th>std</th>\n",
       "      <td>9.082101</td>\n",
       "      <td>0.466011</td>\n",
       "      <td>1.032052</td>\n",
       "      <td>17.538143</td>\n",
       "      <td>51.830751</td>\n",
       "      <td>0.356198</td>\n",
       "      <td>0.525860</td>\n",
       "      <td>22.905161</td>\n",
       "      <td>0.469794</td>\n",
       "      <td>1.161075</td>\n",
       "      <td>0.616226</td>\n",
       "      <td>1.022606</td>\n",
       "      <td>0.612277</td>\n",
       "      <td>0.498835</td>\n",
       "    </tr>\n",
       "    <tr>\n",
       "      <th>min</th>\n",
       "      <td>29.000000</td>\n",
       "      <td>0.000000</td>\n",
       "      <td>0.000000</td>\n",
       "      <td>94.000000</td>\n",
       "      <td>126.000000</td>\n",
       "      <td>0.000000</td>\n",
       "      <td>0.000000</td>\n",
       "      <td>71.000000</td>\n",
       "      <td>0.000000</td>\n",
       "      <td>0.000000</td>\n",
       "      <td>0.000000</td>\n",
       "      <td>0.000000</td>\n",
       "      <td>0.000000</td>\n",
       "      <td>0.000000</td>\n",
       "    </tr>\n",
       "    <tr>\n",
       "      <th>25%</th>\n",
       "      <td>47.500000</td>\n",
       "      <td>0.000000</td>\n",
       "      <td>0.000000</td>\n",
       "      <td>120.000000</td>\n",
       "      <td>211.000000</td>\n",
       "      <td>0.000000</td>\n",
       "      <td>0.000000</td>\n",
       "      <td>133.500000</td>\n",
       "      <td>0.000000</td>\n",
       "      <td>0.000000</td>\n",
       "      <td>1.000000</td>\n",
       "      <td>0.000000</td>\n",
       "      <td>2.000000</td>\n",
       "      <td>0.000000</td>\n",
       "    </tr>\n",
       "    <tr>\n",
       "      <th>50%</th>\n",
       "      <td>55.000000</td>\n",
       "      <td>1.000000</td>\n",
       "      <td>1.000000</td>\n",
       "      <td>130.000000</td>\n",
       "      <td>240.000000</td>\n",
       "      <td>0.000000</td>\n",
       "      <td>1.000000</td>\n",
       "      <td>153.000000</td>\n",
       "      <td>0.000000</td>\n",
       "      <td>0.800000</td>\n",
       "      <td>1.000000</td>\n",
       "      <td>0.000000</td>\n",
       "      <td>2.000000</td>\n",
       "      <td>1.000000</td>\n",
       "    </tr>\n",
       "    <tr>\n",
       "      <th>75%</th>\n",
       "      <td>61.000000</td>\n",
       "      <td>1.000000</td>\n",
       "      <td>2.000000</td>\n",
       "      <td>140.000000</td>\n",
       "      <td>274.500000</td>\n",
       "      <td>0.000000</td>\n",
       "      <td>1.000000</td>\n",
       "      <td>166.000000</td>\n",
       "      <td>1.000000</td>\n",
       "      <td>1.600000</td>\n",
       "      <td>2.000000</td>\n",
       "      <td>1.000000</td>\n",
       "      <td>3.000000</td>\n",
       "      <td>1.000000</td>\n",
       "    </tr>\n",
       "    <tr>\n",
       "      <th>max</th>\n",
       "      <td>77.000000</td>\n",
       "      <td>1.000000</td>\n",
       "      <td>3.000000</td>\n",
       "      <td>200.000000</td>\n",
       "      <td>564.000000</td>\n",
       "      <td>1.000000</td>\n",
       "      <td>2.000000</td>\n",
       "      <td>202.000000</td>\n",
       "      <td>1.000000</td>\n",
       "      <td>6.200000</td>\n",
       "      <td>2.000000</td>\n",
       "      <td>4.000000</td>\n",
       "      <td>3.000000</td>\n",
       "      <td>1.000000</td>\n",
       "    </tr>\n",
       "  </tbody>\n",
       "</table>\n",
       "</div>"
      ],
      "text/plain": [
       "              age         sex          cp    trestbps        chol         fbs  \\\n",
       "count  303.000000  303.000000  303.000000  303.000000  303.000000  303.000000   \n",
       "mean    54.366337    0.683168    0.966997  131.623762  246.264026    0.148515   \n",
       "std      9.082101    0.466011    1.032052   17.538143   51.830751    0.356198   \n",
       "min     29.000000    0.000000    0.000000   94.000000  126.000000    0.000000   \n",
       "25%     47.500000    0.000000    0.000000  120.000000  211.000000    0.000000   \n",
       "50%     55.000000    1.000000    1.000000  130.000000  240.000000    0.000000   \n",
       "75%     61.000000    1.000000    2.000000  140.000000  274.500000    0.000000   \n",
       "max     77.000000    1.000000    3.000000  200.000000  564.000000    1.000000   \n",
       "\n",
       "          restecg     thalach       exang     oldpeak       slope          ca  \\\n",
       "count  303.000000  303.000000  303.000000  303.000000  303.000000  303.000000   \n",
       "mean     0.528053  149.646865    0.326733    1.039604    1.399340    0.729373   \n",
       "std      0.525860   22.905161    0.469794    1.161075    0.616226    1.022606   \n",
       "min      0.000000   71.000000    0.000000    0.000000    0.000000    0.000000   \n",
       "25%      0.000000  133.500000    0.000000    0.000000    1.000000    0.000000   \n",
       "50%      1.000000  153.000000    0.000000    0.800000    1.000000    0.000000   \n",
       "75%      1.000000  166.000000    1.000000    1.600000    2.000000    1.000000   \n",
       "max      2.000000  202.000000    1.000000    6.200000    2.000000    4.000000   \n",
       "\n",
       "             thal      target  \n",
       "count  303.000000  303.000000  \n",
       "mean     2.313531    0.544554  \n",
       "std      0.612277    0.498835  \n",
       "min      0.000000    0.000000  \n",
       "25%      2.000000    0.000000  \n",
       "50%      2.000000    1.000000  \n",
       "75%      3.000000    1.000000  \n",
       "max      3.000000    1.000000  "
      ]
     },
     "execution_count": 4,
     "metadata": {},
     "output_type": "execute_result"
    }
   ],
   "source": [
    "df.describe()"
   ]
  },
  {
   "cell_type": "code",
   "execution_count": 5,
   "id": "7fbf56be",
   "metadata": {
    "execution": {
     "iopub.execute_input": "2022-06-18T07:21:52.249707Z",
     "iopub.status.busy": "2022-06-18T07:21:52.249015Z",
     "iopub.status.idle": "2022-06-18T07:21:52.265854Z",
     "shell.execute_reply": "2022-06-18T07:21:52.264962Z",
     "shell.execute_reply.started": "2022-04-15T09:57:16.567085Z"
    },
    "papermill": {
     "duration": 0.054655,
     "end_time": "2022-06-18T07:21:52.266051",
     "exception": false,
     "start_time": "2022-06-18T07:21:52.211396",
     "status": "completed"
    },
    "tags": []
   },
   "outputs": [
    {
     "name": "stdout",
     "output_type": "stream",
     "text": [
      "Details of unique values  of a particular column age is: [63 37 41 56 57 44 52 54 48 49 64 58 50 66 43 69 59 42 61 40 71 51 65 53\n",
      " 46 45 39 47 62 34 35 29 55 60 67 68 74 76 70 38 77]\n",
      "\n",
      "Details of unique values  of a particular column sex is: [1 0]\n",
      "\n",
      "Details of unique values  of a particular column cp is: [3 2 1 0]\n",
      "\n",
      "Details of unique values  of a particular column trestbps is: [145 130 120 140 172 150 110 135 160 105 125 142 155 104 138 128 108 134\n",
      " 122 115 118 100 124  94 112 102 152 101 132 148 178 129 180 136 126 106\n",
      " 156 170 146 117 200 165 174 192 144 123 154 114 164]\n",
      "\n",
      "Details of unique values  of a particular column chol is: [233 250 204 236 354 192 294 263 199 168 239 275 266 211 283 219 340 226\n",
      " 247 234 243 302 212 175 417 197 198 177 273 213 304 232 269 360 308 245\n",
      " 208 264 321 325 235 257 216 256 231 141 252 201 222 260 182 303 265 309\n",
      " 186 203 183 220 209 258 227 261 221 205 240 318 298 564 277 214 248 255\n",
      " 207 223 288 160 394 315 246 244 270 195 196 254 126 313 262 215 193 271\n",
      " 268 267 210 295 306 178 242 180 228 149 278 253 342 157 286 229 284 224\n",
      " 206 167 230 335 276 353 225 330 290 172 305 188 282 185 326 274 164 307\n",
      " 249 341 407 217 174 281 289 322 299 300 293 184 409 259 200 327 237 218\n",
      " 319 166 311 169 187 176 241 131]\n",
      "\n",
      "Details of unique values  of a particular column fbs is: [1 0]\n",
      "\n",
      "Details of unique values  of a particular column restecg is: [0 1 2]\n",
      "\n",
      "Details of unique values  of a particular column thalach is: [150 187 172 178 163 148 153 173 162 174 160 139 171 144 158 114 151 161\n",
      " 179 137 157 123 152 168 140 188 125 170 165 142 180 143 182 156 115 149\n",
      " 146 175 186 185 159 130 190 132 147 154 202 166 164 184 122 169 138 111\n",
      " 145 194 131 133 155 167 192 121  96 126 105 181 116 108 129 120 112 128\n",
      " 109 113  99 177 141 136  97 127 103 124  88 195 106  95 117  71 118 134\n",
      "  90]\n",
      "\n",
      "Details of unique values  of a particular column exang is: [0 1]\n",
      "\n",
      "Details of unique values  of a particular column oldpeak is: [2.3 3.5 1.4 0.8 0.6 0.4 1.3 0.  0.5 1.6 1.2 0.2 1.8 1.  2.6 1.5 3.  2.4\n",
      " 0.1 1.9 4.2 1.1 2.  0.7 0.3 0.9 3.6 3.1 3.2 2.5 2.2 2.8 3.4 6.2 4.  5.6\n",
      " 2.9 2.1 3.8 4.4]\n",
      "\n",
      "Details of unique values  of a particular column slope is: [0 2 1]\n",
      "\n",
      "Details of unique values  of a particular column ca is: [0 2 1 3 4]\n",
      "\n",
      "Details of unique values  of a particular column thal is: [1 2 3 0]\n",
      "\n",
      "Details of unique values  of a particular column target is: [1 0]\n",
      "\n"
     ]
    }
   ],
   "source": [
    "#All the unique values in a particular column\n",
    "\n",
    "def uniqueValues(column):\n",
    "    print(f'Details of unique values  of a particular column {column} is: {df[column].unique()}')\n",
    "       \n",
    "#Count of the unique values in a column\n",
    "\n",
    "def valueCounts (column):\n",
    "    print(f'value count of the unique column values{column} is: {df[column].value_counts()}')\n",
    "\n",
    "#For loop to iterate through the columns names \n",
    "\n",
    "for column in df.columns:\n",
    "    uniqueValues(column)\n",
    "    print()\n",
    "    \n",
    "    "
   ]
  },
  {
   "cell_type": "markdown",
   "id": "e7e6cfbb",
   "metadata": {
    "papermill": {
     "duration": 0.035636,
     "end_time": "2022-06-18T07:21:52.338452",
     "exception": false,
     "start_time": "2022-06-18T07:21:52.302816",
     "status": "completed"
    },
    "tags": []
   },
   "source": [
    "All the Attributes Explained:\n",
    "\n",
    "age: The person’s age in years\n",
    "sex: The person’s sex (1 = male, 0 = female)\n",
    "cp: chest pain type\n",
    "— Value 0: asymptomatic\n",
    "— Value 1: atypical angina\n",
    "— Value 2: non-anginal pain\n",
    "— Value 3: typical angina\n",
    "trestbps: The person’s resting blood pressure (mm Hg on admission to the hospital)\n",
    "chol: The person’s cholesterol measurement in mg/dl\n",
    "fbs: The person’s fasting blood sugar (> 120 mg/dl, 1 = true; 0 = false)\n",
    "restecg: resting electrocardiographic results\n",
    "— Value 0: showing probable or definite left ventricular hypertrophy by Estes’ criteria\n",
    "— Value 1: normal\n",
    "— Value 2: having ST-T wave abnormality (T wave inversions and/or ST elevation or depression of > 0.05 mV)\n",
    "thalach: The person’s maximum heart rate achieved\n",
    "exang: Exercise induced angina (1 = yes; 0 = no)\n",
    "oldpeak: ST depression induced by exercise relative to rest (‘ST’ relates to positions on the ECG plot. See more here)\n",
    "slope: the slope of the peak exercise ST segment — 0: downsloping; 1: flat; 2: upsloping\n",
    "0: downsloping; 1: flat; 2: upsloping\n",
    "ca: The number of major vessels (0–3)\n",
    "thal: A blood disorder called thalassemia Value 0: NULL (dropped from the dataset previously\n",
    "Value 1: fixed defect (no blood flow in some part of the heart)\n",
    "Value 2: normal blood flow\n",
    "Value 3: reversible defect (a blood flow is observed but it is not normal)\n",
    "target: Heart disease (1 = no, 0= yes)\n"
   ]
  },
  {
   "cell_type": "markdown",
   "id": "7b6c0339",
   "metadata": {
    "papermill": {
     "duration": 0.035022,
     "end_time": "2022-06-18T07:21:52.409343",
     "exception": false,
     "start_time": "2022-06-18T07:21:52.374321",
     "status": "completed"
    },
    "tags": []
   },
   "source": []
  },
  {
   "cell_type": "markdown",
   "id": "c0093520",
   "metadata": {
    "papermill": {
     "duration": 0.034824,
     "end_time": "2022-06-18T07:21:52.479263",
     "exception": false,
     "start_time": "2022-06-18T07:21:52.444439",
     "status": "completed"
    },
    "tags": []
   },
   "source": [
    "2. Missing Values"
   ]
  },
  {
   "cell_type": "code",
   "execution_count": 6,
   "id": "778dfd4c",
   "metadata": {
    "execution": {
     "iopub.execute_input": "2022-06-18T07:21:52.554495Z",
     "iopub.status.busy": "2022-06-18T07:21:52.553850Z",
     "iopub.status.idle": "2022-06-18T07:21:52.561346Z",
     "shell.execute_reply": "2022-06-18T07:21:52.561892Z",
     "shell.execute_reply.started": "2022-04-15T09:57:16.585872Z"
    },
    "papermill": {
     "duration": 0.047114,
     "end_time": "2022-06-18T07:21:52.562065",
     "exception": false,
     "start_time": "2022-06-18T07:21:52.514951",
     "status": "completed"
    },
    "tags": []
   },
   "outputs": [
    {
     "data": {
      "text/plain": [
       "age         0\n",
       "sex         0\n",
       "cp          0\n",
       "trestbps    0\n",
       "chol        0\n",
       "fbs         0\n",
       "restecg     0\n",
       "thalach     0\n",
       "exang       0\n",
       "oldpeak     0\n",
       "slope       0\n",
       "ca          0\n",
       "thal        0\n",
       "target      0\n",
       "dtype: int64"
      ]
     },
     "execution_count": 6,
     "metadata": {},
     "output_type": "execute_result"
    }
   ],
   "source": [
    "#Checking for missing values in the Dataset\n",
    "df.isnull().sum()"
   ]
  },
  {
   "cell_type": "code",
   "execution_count": 7,
   "id": "3e1c1084",
   "metadata": {
    "execution": {
     "iopub.execute_input": "2022-06-18T07:21:52.640982Z",
     "iopub.status.busy": "2022-06-18T07:21:52.635753Z",
     "iopub.status.idle": "2022-06-18T07:21:52.651932Z",
     "shell.execute_reply": "2022-06-18T07:21:52.652826Z",
     "shell.execute_reply.started": "2022-04-15T09:57:16.596681Z"
    },
    "papermill": {
     "duration": 0.055496,
     "end_time": "2022-06-18T07:21:52.653077",
     "exception": false,
     "start_time": "2022-06-18T07:21:52.597581",
     "status": "completed"
    },
    "tags": []
   },
   "outputs": [
    {
     "name": "stdout",
     "output_type": "stream",
     "text": [
      "<class 'pandas.core.frame.DataFrame'>\n",
      "RangeIndex: 303 entries, 0 to 302\n",
      "Data columns (total 14 columns):\n",
      " #   Column    Non-Null Count  Dtype  \n",
      "---  ------    --------------  -----  \n",
      " 0   age       303 non-null    int64  \n",
      " 1   sex       303 non-null    int64  \n",
      " 2   cp        303 non-null    int64  \n",
      " 3   trestbps  303 non-null    int64  \n",
      " 4   chol      303 non-null    int64  \n",
      " 5   fbs       303 non-null    int64  \n",
      " 6   restecg   303 non-null    int64  \n",
      " 7   thalach   303 non-null    int64  \n",
      " 8   exang     303 non-null    int64  \n",
      " 9   oldpeak   303 non-null    float64\n",
      " 10  slope     303 non-null    int64  \n",
      " 11  ca        303 non-null    int64  \n",
      " 12  thal      303 non-null    int64  \n",
      " 13  target    303 non-null    int64  \n",
      "dtypes: float64(1), int64(13)\n",
      "memory usage: 33.3 KB\n"
     ]
    }
   ],
   "source": [
    "#Summary of the DataFrame\n",
    "df.info()"
   ]
  },
  {
   "cell_type": "markdown",
   "id": "e2ab89be",
   "metadata": {
    "papermill": {
     "duration": 0.036565,
     "end_time": "2022-06-18T07:21:52.726130",
     "exception": false,
     "start_time": "2022-06-18T07:21:52.689565",
     "status": "completed"
    },
    "tags": []
   },
   "source": [
    "EXPLORATORY DATA ANALYSIS PART 2"
   ]
  },
  {
   "cell_type": "markdown",
   "id": "5ad121c2",
   "metadata": {
    "papermill": {
     "duration": 0.035312,
     "end_time": "2022-06-18T07:21:52.797173",
     "exception": false,
     "start_time": "2022-06-18T07:21:52.761861",
     "status": "completed"
    },
    "tags": []
   },
   "source": [
    "3. Outliers"
   ]
  },
  {
   "cell_type": "code",
   "execution_count": 8,
   "id": "e564f423",
   "metadata": {
    "execution": {
     "iopub.execute_input": "2022-06-18T07:21:52.872968Z",
     "iopub.status.busy": "2022-06-18T07:21:52.872353Z",
     "iopub.status.idle": "2022-06-18T07:21:52.889222Z",
     "shell.execute_reply": "2022-06-18T07:21:52.888686Z",
     "shell.execute_reply.started": "2022-04-15T09:57:16.614534Z"
    },
    "papermill": {
     "duration": 0.056069,
     "end_time": "2022-06-18T07:21:52.889379",
     "exception": false,
     "start_time": "2022-06-18T07:21:52.833310",
     "status": "completed"
    },
    "tags": []
   },
   "outputs": [
    {
     "name": "stdout",
     "output_type": "stream",
     "text": [
      "     cp  restecg  slope  ca  thal\n",
      "0     3        0      0   0     1\n",
      "1     2        1      0   0     2\n",
      "2     1        0      2   0     2\n",
      "3     1        1      2   0     2\n",
      "4     0        1      2   0     2\n",
      "..   ..      ...    ...  ..   ...\n",
      "298   0        1      1   0     3\n",
      "299   3        1      1   0     3\n",
      "300   0        1      1   2     3\n",
      "301   0        1      1   1     3\n",
      "302   1        0      1   1     2\n",
      "\n",
      "[303 rows x 5 columns]\n",
      "     sex  trestbps  chol  thalach  exang  oldpeak  target  fbs\n",
      "0      1       145   233      150      0      2.3       1    1\n",
      "1      1       130   250      187      0      3.5       1    0\n",
      "2      0       130   204      172      0      1.4       1    0\n",
      "3      1       120   236      178      0      0.8       1    0\n",
      "4      0       120   354      163      1      0.6       1    0\n",
      "..   ...       ...   ...      ...    ...      ...     ...  ...\n",
      "298    0       140   241      123      1      0.2       0    0\n",
      "299    1       110   264      132      0      1.2       0    0\n",
      "300    1       144   193      141      0      3.4       0    1\n",
      "301    1       130   131      115      1      1.2       0    0\n",
      "302    0       130   236      174      0      0.0       0    0\n",
      "\n",
      "[303 rows x 8 columns]\n"
     ]
    }
   ],
   "source": [
    "#Separating Categorical Features from Numerical Features\n",
    "\n",
    "categoricalVariables = df[['cp', 'restecg', 'slope', 'ca', 'thal']]\n",
    "\n",
    "numericalVariables = df[['sex', 'trestbps', 'chol', 'thalach', 'exang', \n",
    "                           'oldpeak', 'target' , 'fbs']]\n",
    "\n",
    "print(categoricalVariables)\n",
    "print(numericalVariables)\n"
   ]
  },
  {
   "cell_type": "code",
   "execution_count": 9,
   "id": "6ff47b97",
   "metadata": {
    "execution": {
     "iopub.execute_input": "2022-06-18T07:21:52.964343Z",
     "iopub.status.busy": "2022-06-18T07:21:52.963678Z",
     "iopub.status.idle": "2022-06-18T07:21:59.268090Z",
     "shell.execute_reply": "2022-06-18T07:21:59.267401Z",
     "shell.execute_reply.started": "2022-04-15T10:38:15.339131Z"
    },
    "papermill": {
     "duration": 6.34295,
     "end_time": "2022-06-18T07:21:59.268265",
     "exception": false,
     "start_time": "2022-06-18T07:21:52.925315",
     "status": "completed"
    },
    "tags": []
   },
   "outputs": [
    {
     "data": {
      "image/png": "[encoded data removed]",
      "text/plain": [
       "<Figure size 864x360 with 3 Axes>"
      ]
     },
     "metadata": {},
     "output_type": "display_data"
    },
    {
     "data": {
      "image/png": "[encoded data removed]",
      "text/plain": [
       "<Figure size 864x360 with 3 Axes>"
      ]
     },
     "metadata": {},
     "output_type": "display_data"
    },
    {
     "data": {
      "image/png": "[encoded data removed]",
      "text/plain": [
       "<Figure size 864x360 with 3 Axes>"
      ]
     },
     "metadata": {},
     "output_type": "display_data"
    },
    {
     "data": {
      "image/png": "[encoded data removed]",
      "text/plain": [
       "<Figure size 864x360 with 3 Axes>"
      ]
     },
     "metadata": {},
     "output_type": "display_data"
    },
    {
     "data": {
      "image/png": "[encoded data removed]",
      "text/plain": [
       "<Figure size 864x360 with 3 Axes>"
      ]
     },
     "metadata": {},
     "output_type": "display_data"
    },
    {
     "data": {
      "image/png": "[encoded data removed]",
      "text/plain": [
       "<Figure size 864x360 with 3 Axes>"
      ]
     },
     "metadata": {},
     "output_type": "display_data"
    },
    {
     "data": {
      "image/png": "[encoded data removed]",
      "text/plain": [
       "<Figure size 864x360 with 3 Axes>"
      ]
     },
     "metadata": {},
     "output_type": "display_data"
    },
    {
     "data": {
      "image/png": "[encoded data removed]",
      "text/plain": [
       "<Figure size 864x360 with 3 Axes>"
      ]
     },
     "metadata": {},
     "output_type": "display_data"
    }
   ],
   "source": [
    "#Numerical Variables Data preprocessing\n",
    "\n",
    "'''\n",
    "Part1: visualizing the Distribution plot,the Box plot and \n",
    "            the Probability plot for the Numerical variables\n",
    "'''\n",
    "\n",
    "sn.set_style('dark')\n",
    "\n",
    "for column in numericalVariables:\n",
    "    plt.figure(figsize=(12,5))\n",
    "    \n",
    "    #the distribution plot\n",
    "    plt.subplot(131)\n",
    "    sn.histplot(x=df[column], label=\"skew: \" + str(np.round(df[column].skew(),2)))\n",
    "    plt.legend()\n",
    "    \n",
    "    #the box plot\n",
    "    plt.subplot(132)\n",
    "    sn.boxplot(x=df[column])\n",
    "    \n",
    "    \n",
    "    #the probability plot\n",
    "    plt.subplot(133)\n",
    "    stats.probplot(x=df[column], plot=plt)\n",
    "    plt.tight_layout()\n",
    "    plt.show()"
   ]
  },
  {
   "cell_type": "code",
   "execution_count": 10,
   "id": "af7152ec",
   "metadata": {
    "execution": {
     "iopub.execute_input": "2022-06-18T07:21:59.391024Z",
     "iopub.status.busy": "2022-06-18T07:21:59.375589Z",
     "iopub.status.idle": "2022-06-18T07:21:59.411713Z",
     "shell.execute_reply": "2022-06-18T07:21:59.411094Z",
     "shell.execute_reply.started": "2022-04-15T09:57:22.383881Z"
    },
    "papermill": {
     "duration": 0.096717,
     "end_time": "2022-06-18T07:21:59.411858",
     "exception": false,
     "start_time": "2022-06-18T07:21:59.315141",
     "status": "completed"
    },
    "tags": []
   },
   "outputs": [
    {
     "name": "stdout",
     "output_type": "stream",
     "text": [
      "['sexzscore', 'trestbpszscore', 'cholzscore', 'thalachzscore', 'exangzscore', 'oldpeakzscore', 'targetzscore', 'fbszscore']\n"
     ]
    },
    {
     "data": {
      "text/html": [
       "<div>\n",
       "<style scoped>\n",
       "    .dataframe tbody tr th:only-of-type {\n",
       "        vertical-align: middle;\n",
       "    }\n",
       "\n",
       "    .dataframe tbody tr th {\n",
       "        vertical-align: top;\n",
       "    }\n",
       "\n",
       "    .dataframe thead th {\n",
       "        text-align: right;\n",
       "    }\n",
       "</style>\n",
       "<table border=\"1\" class=\"dataframe\">\n",
       "  <thead>\n",
       "    <tr style=\"text-align: right;\">\n",
       "      <th></th>\n",
       "      <th>age</th>\n",
       "      <th>sex</th>\n",
       "      <th>cp</th>\n",
       "      <th>trestbps</th>\n",
       "      <th>chol</th>\n",
       "      <th>fbs</th>\n",
       "      <th>restecg</th>\n",
       "      <th>thalach</th>\n",
       "      <th>exang</th>\n",
       "      <th>oldpeak</th>\n",
       "      <th>...</th>\n",
       "      <th>thal</th>\n",
       "      <th>target</th>\n",
       "      <th>sexzscore</th>\n",
       "      <th>trestbpszscore</th>\n",
       "      <th>cholzscore</th>\n",
       "      <th>thalachzscore</th>\n",
       "      <th>exangzscore</th>\n",
       "      <th>oldpeakzscore</th>\n",
       "      <th>targetzscore</th>\n",
       "      <th>fbszscore</th>\n",
       "    </tr>\n",
       "  </thead>\n",
       "  <tbody>\n",
       "    <tr>\n",
       "      <th>0</th>\n",
       "      <td>63</td>\n",
       "      <td>1</td>\n",
       "      <td>3</td>\n",
       "      <td>145</td>\n",
       "      <td>233</td>\n",
       "      <td>1</td>\n",
       "      <td>0</td>\n",
       "      <td>150</td>\n",
       "      <td>0</td>\n",
       "      <td>2.3</td>\n",
       "      <td>...</td>\n",
       "      <td>1</td>\n",
       "      <td>1</td>\n",
       "      <td>0.681005</td>\n",
       "      <td>0.763956</td>\n",
       "      <td>0.256334</td>\n",
       "      <td>0.015443</td>\n",
       "      <td>0.696631</td>\n",
       "      <td>1.087338</td>\n",
       "      <td>0.914529</td>\n",
       "      <td>2.394438</td>\n",
       "    </tr>\n",
       "    <tr>\n",
       "      <th>1</th>\n",
       "      <td>37</td>\n",
       "      <td>1</td>\n",
       "      <td>2</td>\n",
       "      <td>130</td>\n",
       "      <td>250</td>\n",
       "      <td>0</td>\n",
       "      <td>1</td>\n",
       "      <td>187</td>\n",
       "      <td>0</td>\n",
       "      <td>3.5</td>\n",
       "      <td>...</td>\n",
       "      <td>2</td>\n",
       "      <td>1</td>\n",
       "      <td>0.681005</td>\n",
       "      <td>0.092738</td>\n",
       "      <td>0.072199</td>\n",
       "      <td>1.633471</td>\n",
       "      <td>0.696631</td>\n",
       "      <td>2.122573</td>\n",
       "      <td>0.914529</td>\n",
       "      <td>0.417635</td>\n",
       "    </tr>\n",
       "    <tr>\n",
       "      <th>2</th>\n",
       "      <td>41</td>\n",
       "      <td>0</td>\n",
       "      <td>1</td>\n",
       "      <td>130</td>\n",
       "      <td>204</td>\n",
       "      <td>0</td>\n",
       "      <td>0</td>\n",
       "      <td>172</td>\n",
       "      <td>0</td>\n",
       "      <td>1.4</td>\n",
       "      <td>...</td>\n",
       "      <td>2</td>\n",
       "      <td>1</td>\n",
       "      <td>1.468418</td>\n",
       "      <td>0.092738</td>\n",
       "      <td>0.816773</td>\n",
       "      <td>0.977514</td>\n",
       "      <td>0.696631</td>\n",
       "      <td>0.310912</td>\n",
       "      <td>0.914529</td>\n",
       "      <td>0.417635</td>\n",
       "    </tr>\n",
       "    <tr>\n",
       "      <th>3</th>\n",
       "      <td>56</td>\n",
       "      <td>1</td>\n",
       "      <td>1</td>\n",
       "      <td>120</td>\n",
       "      <td>236</td>\n",
       "      <td>0</td>\n",
       "      <td>1</td>\n",
       "      <td>178</td>\n",
       "      <td>0</td>\n",
       "      <td>0.8</td>\n",
       "      <td>...</td>\n",
       "      <td>2</td>\n",
       "      <td>1</td>\n",
       "      <td>0.681005</td>\n",
       "      <td>0.663867</td>\n",
       "      <td>0.198357</td>\n",
       "      <td>1.239897</td>\n",
       "      <td>0.696631</td>\n",
       "      <td>0.206705</td>\n",
       "      <td>0.914529</td>\n",
       "      <td>0.417635</td>\n",
       "    </tr>\n",
       "    <tr>\n",
       "      <th>4</th>\n",
       "      <td>57</td>\n",
       "      <td>0</td>\n",
       "      <td>0</td>\n",
       "      <td>120</td>\n",
       "      <td>354</td>\n",
       "      <td>0</td>\n",
       "      <td>1</td>\n",
       "      <td>163</td>\n",
       "      <td>1</td>\n",
       "      <td>0.6</td>\n",
       "      <td>...</td>\n",
       "      <td>2</td>\n",
       "      <td>1</td>\n",
       "      <td>1.468418</td>\n",
       "      <td>0.663867</td>\n",
       "      <td>2.082050</td>\n",
       "      <td>0.583939</td>\n",
       "      <td>1.435481</td>\n",
       "      <td>0.379244</td>\n",
       "      <td>0.914529</td>\n",
       "      <td>0.417635</td>\n",
       "    </tr>\n",
       "  </tbody>\n",
       "</table>\n",
       "<p>5 rows × 22 columns</p>\n",
       "</div>"
      ],
      "text/plain": [
       "   age  sex  cp  trestbps  chol  fbs  restecg  thalach  exang  oldpeak  ...  \\\n",
       "0   63    1   3       145   233    1        0      150      0      2.3  ...   \n",
       "1   37    1   2       130   250    0        1      187      0      3.5  ...   \n",
       "2   41    0   1       130   204    0        0      172      0      1.4  ...   \n",
       "3   56    1   1       120   236    0        1      178      0      0.8  ...   \n",
       "4   57    0   0       120   354    0        1      163      1      0.6  ...   \n",
       "\n",
       "   thal  target  sexzscore  trestbpszscore  cholzscore  thalachzscore  \\\n",
       "0     1       1   0.681005        0.763956    0.256334       0.015443   \n",
       "1     2       1   0.681005        0.092738    0.072199       1.633471   \n",
       "2     2       1   1.468418        0.092738    0.816773       0.977514   \n",
       "3     2       1   0.681005        0.663867    0.198357       1.239897   \n",
       "4     2       1   1.468418        0.663867    2.082050       0.583939   \n",
       "\n",
       "   exangzscore  oldpeakzscore  targetzscore  fbszscore  \n",
       "0     0.696631       1.087338      0.914529   2.394438  \n",
       "1     0.696631       2.122573      0.914529   0.417635  \n",
       "2     0.696631       0.310912      0.914529   0.417635  \n",
       "3     0.696631       0.206705      0.914529   0.417635  \n",
       "4     1.435481       0.379244      0.914529   0.417635  \n",
       "\n",
       "[5 rows x 22 columns]"
      ]
     },
     "execution_count": 10,
     "metadata": {},
     "output_type": "execute_result"
    }
   ],
   "source": [
    "#Working an Outliers using Z-scores\n",
    "#Using stats module from Scipy library\n",
    "from scipy import stats\n",
    "zscoreList=[]\n",
    "def zscoreColumn(column):\n",
    "    #creating the zscore column\n",
    "    \n",
    "    df[column +'zscore'] = np.abs(stats.zscore(df[column]))\n",
    "    zscoreList.append(column +'zscore')\n",
    "\n",
    "for column in numericalVariables:\n",
    "    zscoreColumn(column)\n",
    "\n",
    "print(zscoreList)\n",
    "df.head()\n",
    "\n"
   ]
  },
  {
   "cell_type": "code",
   "execution_count": 11,
   "id": "2f46e142",
   "metadata": {
    "execution": {
     "iopub.execute_input": "2022-06-18T07:21:59.522181Z",
     "iopub.status.busy": "2022-06-18T07:21:59.521472Z",
     "iopub.status.idle": "2022-06-18T07:21:59.541267Z",
     "shell.execute_reply": "2022-06-18T07:21:59.540731Z",
     "shell.execute_reply.started": "2022-04-15T09:57:22.427829Z"
    },
    "papermill": {
     "duration": 0.08212,
     "end_time": "2022-06-18T07:21:59.541420",
     "exception": false,
     "start_time": "2022-06-18T07:21:59.459300",
     "status": "completed"
    },
    "tags": []
   },
   "outputs": [
    {
     "data": {
      "text/html": [
       "<div>\n",
       "<style scoped>\n",
       "    .dataframe tbody tr th:only-of-type {\n",
       "        vertical-align: middle;\n",
       "    }\n",
       "\n",
       "    .dataframe tbody tr th {\n",
       "        vertical-align: top;\n",
       "    }\n",
       "\n",
       "    .dataframe thead th {\n",
       "        text-align: right;\n",
       "    }\n",
       "</style>\n",
       "<table border=\"1\" class=\"dataframe\">\n",
       "  <thead>\n",
       "    <tr style=\"text-align: right;\">\n",
       "      <th></th>\n",
       "      <th>age</th>\n",
       "      <th>sex</th>\n",
       "      <th>cp</th>\n",
       "      <th>trestbps</th>\n",
       "      <th>chol</th>\n",
       "      <th>fbs</th>\n",
       "      <th>restecg</th>\n",
       "      <th>thalach</th>\n",
       "      <th>exang</th>\n",
       "      <th>oldpeak</th>\n",
       "      <th>...</th>\n",
       "      <th>targetzscore</th>\n",
       "      <th>fbszscore</th>\n",
       "      <th>filteredsexzscore</th>\n",
       "      <th>filteredtrestbpszscore</th>\n",
       "      <th>filteredcholzscore</th>\n",
       "      <th>filteredthalachzscore</th>\n",
       "      <th>filteredexangzscore</th>\n",
       "      <th>filteredoldpeakzscore</th>\n",
       "      <th>filteredtargetzscore</th>\n",
       "      <th>filteredfbszscore</th>\n",
       "    </tr>\n",
       "  </thead>\n",
       "  <tbody>\n",
       "    <tr>\n",
       "      <th>0</th>\n",
       "      <td>63</td>\n",
       "      <td>1</td>\n",
       "      <td>3</td>\n",
       "      <td>145</td>\n",
       "      <td>233</td>\n",
       "      <td>1</td>\n",
       "      <td>0</td>\n",
       "      <td>150</td>\n",
       "      <td>0</td>\n",
       "      <td>2.3</td>\n",
       "      <td>...</td>\n",
       "      <td>0.914529</td>\n",
       "      <td>2.394438</td>\n",
       "      <td>True</td>\n",
       "      <td>True</td>\n",
       "      <td>True</td>\n",
       "      <td>True</td>\n",
       "      <td>True</td>\n",
       "      <td>True</td>\n",
       "      <td>True</td>\n",
       "      <td>True</td>\n",
       "    </tr>\n",
       "    <tr>\n",
       "      <th>1</th>\n",
       "      <td>37</td>\n",
       "      <td>1</td>\n",
       "      <td>2</td>\n",
       "      <td>130</td>\n",
       "      <td>250</td>\n",
       "      <td>0</td>\n",
       "      <td>1</td>\n",
       "      <td>187</td>\n",
       "      <td>0</td>\n",
       "      <td>3.5</td>\n",
       "      <td>...</td>\n",
       "      <td>0.914529</td>\n",
       "      <td>0.417635</td>\n",
       "      <td>True</td>\n",
       "      <td>True</td>\n",
       "      <td>True</td>\n",
       "      <td>True</td>\n",
       "      <td>True</td>\n",
       "      <td>True</td>\n",
       "      <td>True</td>\n",
       "      <td>True</td>\n",
       "    </tr>\n",
       "    <tr>\n",
       "      <th>2</th>\n",
       "      <td>41</td>\n",
       "      <td>0</td>\n",
       "      <td>1</td>\n",
       "      <td>130</td>\n",
       "      <td>204</td>\n",
       "      <td>0</td>\n",
       "      <td>0</td>\n",
       "      <td>172</td>\n",
       "      <td>0</td>\n",
       "      <td>1.4</td>\n",
       "      <td>...</td>\n",
       "      <td>0.914529</td>\n",
       "      <td>0.417635</td>\n",
       "      <td>True</td>\n",
       "      <td>True</td>\n",
       "      <td>True</td>\n",
       "      <td>True</td>\n",
       "      <td>True</td>\n",
       "      <td>True</td>\n",
       "      <td>True</td>\n",
       "      <td>True</td>\n",
       "    </tr>\n",
       "    <tr>\n",
       "      <th>3</th>\n",
       "      <td>56</td>\n",
       "      <td>1</td>\n",
       "      <td>1</td>\n",
       "      <td>120</td>\n",
       "      <td>236</td>\n",
       "      <td>0</td>\n",
       "      <td>1</td>\n",
       "      <td>178</td>\n",
       "      <td>0</td>\n",
       "      <td>0.8</td>\n",
       "      <td>...</td>\n",
       "      <td>0.914529</td>\n",
       "      <td>0.417635</td>\n",
       "      <td>True</td>\n",
       "      <td>True</td>\n",
       "      <td>True</td>\n",
       "      <td>True</td>\n",
       "      <td>True</td>\n",
       "      <td>True</td>\n",
       "      <td>True</td>\n",
       "      <td>True</td>\n",
       "    </tr>\n",
       "    <tr>\n",
       "      <th>4</th>\n",
       "      <td>57</td>\n",
       "      <td>0</td>\n",
       "      <td>0</td>\n",
       "      <td>120</td>\n",
       "      <td>354</td>\n",
       "      <td>0</td>\n",
       "      <td>1</td>\n",
       "      <td>163</td>\n",
       "      <td>1</td>\n",
       "      <td>0.6</td>\n",
       "      <td>...</td>\n",
       "      <td>0.914529</td>\n",
       "      <td>0.417635</td>\n",
       "      <td>True</td>\n",
       "      <td>True</td>\n",
       "      <td>True</td>\n",
       "      <td>True</td>\n",
       "      <td>True</td>\n",
       "      <td>True</td>\n",
       "      <td>True</td>\n",
       "      <td>True</td>\n",
       "    </tr>\n",
       "  </tbody>\n",
       "</table>\n",
       "<p>5 rows × 30 columns</p>\n",
       "</div>"
      ],
      "text/plain": [
       "   age  sex  cp  trestbps  chol  fbs  restecg  thalach  exang  oldpeak  ...  \\\n",
       "0   63    1   3       145   233    1        0      150      0      2.3  ...   \n",
       "1   37    1   2       130   250    0        1      187      0      3.5  ...   \n",
       "2   41    0   1       130   204    0        0      172      0      1.4  ...   \n",
       "3   56    1   1       120   236    0        1      178      0      0.8  ...   \n",
       "4   57    0   0       120   354    0        1      163      1      0.6  ...   \n",
       "\n",
       "   targetzscore  fbszscore  filteredsexzscore  filteredtrestbpszscore  \\\n",
       "0      0.914529   2.394438               True                    True   \n",
       "1      0.914529   0.417635               True                    True   \n",
       "2      0.914529   0.417635               True                    True   \n",
       "3      0.914529   0.417635               True                    True   \n",
       "4      0.914529   0.417635               True                    True   \n",
       "\n",
       "   filteredcholzscore  filteredthalachzscore  filteredexangzscore  \\\n",
       "0                True                   True                 True   \n",
       "1                True                   True                 True   \n",
       "2                True                   True                 True   \n",
       "3                True                   True                 True   \n",
       "4                True                   True                 True   \n",
       "\n",
       "   filteredoldpeakzscore  filteredtargetzscore  filteredfbszscore  \n",
       "0                   True                  True               True  \n",
       "1                   True                  True               True  \n",
       "2                   True                  True               True  \n",
       "3                   True                  True               True  \n",
       "4                   True                  True               True  \n",
       "\n",
       "[5 rows x 30 columns]"
      ]
     },
     "execution_count": 11,
     "metadata": {},
     "output_type": "execute_result"
    }
   ],
   "source": [
    "#DataFrame minus Outliers\n",
    "filteredzscoreList=[]\n",
    "def DataFrameWithoutOutliers(column):\n",
    "    df['filtered'+column] = (df[column] < 3)\n",
    "    #threshold = 3\n",
    "    #print(np.where(df[column]< 3))\n",
    "    filteredzscoreList.append('filtered'+column )\n",
    "    \n",
    "for column in zscoreList:\n",
    "    DataFrameWithoutOutliers(column)\n",
    "    \n",
    "df.head()\n",
    "\n"
   ]
  },
  {
   "cell_type": "code",
   "execution_count": 12,
   "id": "14009523",
   "metadata": {
    "execution": {
     "iopub.execute_input": "2022-06-18T07:21:59.658281Z",
     "iopub.status.busy": "2022-06-18T07:21:59.642180Z",
     "iopub.status.idle": "2022-06-18T07:21:59.664172Z",
     "shell.execute_reply": "2022-06-18T07:21:59.663520Z",
     "shell.execute_reply.started": "2022-04-15T09:57:22.456289Z"
    },
    "papermill": {
     "duration": 0.076035,
     "end_time": "2022-06-18T07:21:59.664352",
     "exception": false,
     "start_time": "2022-06-18T07:21:59.588317",
     "status": "completed"
    },
    "tags": []
   },
   "outputs": [
    {
     "name": "stdout",
     "output_type": "stream",
     "text": [
      "['sexzscore', 'trestbpszscore', 'cholzscore', 'thalachzscore', 'exangzscore', 'oldpeakzscore', 'targetzscore', 'fbszscore'] ['filteredsexzscore', 'filteredtrestbpszscore', 'filteredcholzscore', 'filteredthalachzscore', 'filteredexangzscore', 'filteredoldpeakzscore', 'filteredtargetzscore', 'filteredfbszscore']\n"
     ]
    },
    {
     "data": {
      "text/html": [
       "<div>\n",
       "<style scoped>\n",
       "    .dataframe tbody tr th:only-of-type {\n",
       "        vertical-align: middle;\n",
       "    }\n",
       "\n",
       "    .dataframe tbody tr th {\n",
       "        vertical-align: top;\n",
       "    }\n",
       "\n",
       "    .dataframe thead th {\n",
       "        text-align: right;\n",
       "    }\n",
       "</style>\n",
       "<table border=\"1\" class=\"dataframe\">\n",
       "  <thead>\n",
       "    <tr style=\"text-align: right;\">\n",
       "      <th></th>\n",
       "      <th>age</th>\n",
       "      <th>sex</th>\n",
       "      <th>cp</th>\n",
       "      <th>trestbps</th>\n",
       "      <th>chol</th>\n",
       "      <th>fbs</th>\n",
       "      <th>restecg</th>\n",
       "      <th>thalach</th>\n",
       "      <th>exang</th>\n",
       "      <th>oldpeak</th>\n",
       "      <th>slope</th>\n",
       "      <th>ca</th>\n",
       "      <th>thal</th>\n",
       "      <th>target</th>\n",
       "    </tr>\n",
       "  </thead>\n",
       "  <tbody>\n",
       "    <tr>\n",
       "      <th>0</th>\n",
       "      <td>63</td>\n",
       "      <td>1</td>\n",
       "      <td>3</td>\n",
       "      <td>145</td>\n",
       "      <td>233</td>\n",
       "      <td>1</td>\n",
       "      <td>0</td>\n",
       "      <td>150</td>\n",
       "      <td>0</td>\n",
       "      <td>2.3</td>\n",
       "      <td>0</td>\n",
       "      <td>0</td>\n",
       "      <td>1</td>\n",
       "      <td>1</td>\n",
       "    </tr>\n",
       "    <tr>\n",
       "      <th>1</th>\n",
       "      <td>37</td>\n",
       "      <td>1</td>\n",
       "      <td>2</td>\n",
       "      <td>130</td>\n",
       "      <td>250</td>\n",
       "      <td>0</td>\n",
       "      <td>1</td>\n",
       "      <td>187</td>\n",
       "      <td>0</td>\n",
       "      <td>3.5</td>\n",
       "      <td>0</td>\n",
       "      <td>0</td>\n",
       "      <td>2</td>\n",
       "      <td>1</td>\n",
       "    </tr>\n",
       "    <tr>\n",
       "      <th>2</th>\n",
       "      <td>41</td>\n",
       "      <td>0</td>\n",
       "      <td>1</td>\n",
       "      <td>130</td>\n",
       "      <td>204</td>\n",
       "      <td>0</td>\n",
       "      <td>0</td>\n",
       "      <td>172</td>\n",
       "      <td>0</td>\n",
       "      <td>1.4</td>\n",
       "      <td>2</td>\n",
       "      <td>0</td>\n",
       "      <td>2</td>\n",
       "      <td>1</td>\n",
       "    </tr>\n",
       "    <tr>\n",
       "      <th>3</th>\n",
       "      <td>56</td>\n",
       "      <td>1</td>\n",
       "      <td>1</td>\n",
       "      <td>120</td>\n",
       "      <td>236</td>\n",
       "      <td>0</td>\n",
       "      <td>1</td>\n",
       "      <td>178</td>\n",
       "      <td>0</td>\n",
       "      <td>0.8</td>\n",
       "      <td>2</td>\n",
       "      <td>0</td>\n",
       "      <td>2</td>\n",
       "      <td>1</td>\n",
       "    </tr>\n",
       "    <tr>\n",
       "      <th>4</th>\n",
       "      <td>57</td>\n",
       "      <td>0</td>\n",
       "      <td>0</td>\n",
       "      <td>120</td>\n",
       "      <td>354</td>\n",
       "      <td>0</td>\n",
       "      <td>1</td>\n",
       "      <td>163</td>\n",
       "      <td>1</td>\n",
       "      <td>0.6</td>\n",
       "      <td>2</td>\n",
       "      <td>0</td>\n",
       "      <td>2</td>\n",
       "      <td>1</td>\n",
       "    </tr>\n",
       "    <tr>\n",
       "      <th>...</th>\n",
       "      <td>...</td>\n",
       "      <td>...</td>\n",
       "      <td>...</td>\n",
       "      <td>...</td>\n",
       "      <td>...</td>\n",
       "      <td>...</td>\n",
       "      <td>...</td>\n",
       "      <td>...</td>\n",
       "      <td>...</td>\n",
       "      <td>...</td>\n",
       "      <td>...</td>\n",
       "      <td>...</td>\n",
       "      <td>...</td>\n",
       "      <td>...</td>\n",
       "    </tr>\n",
       "    <tr>\n",
       "      <th>298</th>\n",
       "      <td>57</td>\n",
       "      <td>0</td>\n",
       "      <td>0</td>\n",
       "      <td>140</td>\n",
       "      <td>241</td>\n",
       "      <td>0</td>\n",
       "      <td>1</td>\n",
       "      <td>123</td>\n",
       "      <td>1</td>\n",
       "      <td>0.2</td>\n",
       "      <td>1</td>\n",
       "      <td>0</td>\n",
       "      <td>3</td>\n",
       "      <td>0</td>\n",
       "    </tr>\n",
       "    <tr>\n",
       "      <th>299</th>\n",
       "      <td>45</td>\n",
       "      <td>1</td>\n",
       "      <td>3</td>\n",
       "      <td>110</td>\n",
       "      <td>264</td>\n",
       "      <td>0</td>\n",
       "      <td>1</td>\n",
       "      <td>132</td>\n",
       "      <td>0</td>\n",
       "      <td>1.2</td>\n",
       "      <td>1</td>\n",
       "      <td>0</td>\n",
       "      <td>3</td>\n",
       "      <td>0</td>\n",
       "    </tr>\n",
       "    <tr>\n",
       "      <th>300</th>\n",
       "      <td>68</td>\n",
       "      <td>1</td>\n",
       "      <td>0</td>\n",
       "      <td>144</td>\n",
       "      <td>193</td>\n",
       "      <td>1</td>\n",
       "      <td>1</td>\n",
       "      <td>141</td>\n",
       "      <td>0</td>\n",
       "      <td>3.4</td>\n",
       "      <td>1</td>\n",
       "      <td>2</td>\n",
       "      <td>3</td>\n",
       "      <td>0</td>\n",
       "    </tr>\n",
       "    <tr>\n",
       "      <th>301</th>\n",
       "      <td>57</td>\n",
       "      <td>1</td>\n",
       "      <td>0</td>\n",
       "      <td>130</td>\n",
       "      <td>131</td>\n",
       "      <td>0</td>\n",
       "      <td>1</td>\n",
       "      <td>115</td>\n",
       "      <td>1</td>\n",
       "      <td>1.2</td>\n",
       "      <td>1</td>\n",
       "      <td>1</td>\n",
       "      <td>3</td>\n",
       "      <td>0</td>\n",
       "    </tr>\n",
       "    <tr>\n",
       "      <th>302</th>\n",
       "      <td>57</td>\n",
       "      <td>0</td>\n",
       "      <td>1</td>\n",
       "      <td>130</td>\n",
       "      <td>236</td>\n",
       "      <td>0</td>\n",
       "      <td>0</td>\n",
       "      <td>174</td>\n",
       "      <td>0</td>\n",
       "      <td>0.0</td>\n",
       "      <td>1</td>\n",
       "      <td>1</td>\n",
       "      <td>2</td>\n",
       "      <td>0</td>\n",
       "    </tr>\n",
       "  </tbody>\n",
       "</table>\n",
       "<p>303 rows × 14 columns</p>\n",
       "</div>"
      ],
      "text/plain": [
       "     age  sex  cp  trestbps  chol  fbs  restecg  thalach  exang  oldpeak  \\\n",
       "0     63    1   3       145   233    1        0      150      0      2.3   \n",
       "1     37    1   2       130   250    0        1      187      0      3.5   \n",
       "2     41    0   1       130   204    0        0      172      0      1.4   \n",
       "3     56    1   1       120   236    0        1      178      0      0.8   \n",
       "4     57    0   0       120   354    0        1      163      1      0.6   \n",
       "..   ...  ...  ..       ...   ...  ...      ...      ...    ...      ...   \n",
       "298   57    0   0       140   241    0        1      123      1      0.2   \n",
       "299   45    1   3       110   264    0        1      132      0      1.2   \n",
       "300   68    1   0       144   193    1        1      141      0      3.4   \n",
       "301   57    1   0       130   131    0        1      115      1      1.2   \n",
       "302   57    0   1       130   236    0        0      174      0      0.0   \n",
       "\n",
       "     slope  ca  thal  target  \n",
       "0        0   0     1       1  \n",
       "1        0   0     2       1  \n",
       "2        2   0     2       1  \n",
       "3        2   0     2       1  \n",
       "4        2   0     2       1  \n",
       "..     ...  ..   ...     ...  \n",
       "298      1   0     3       0  \n",
       "299      1   0     3       0  \n",
       "300      1   2     3       0  \n",
       "301      1   1     3       0  \n",
       "302      1   1     2       0  \n",
       "\n",
       "[303 rows x 14 columns]"
      ]
     },
     "execution_count": 12,
     "metadata": {},
     "output_type": "execute_result"
    }
   ],
   "source": [
    "#Dropping Unnecessary columns from the dataframe\n",
    "print(zscoreList, filteredzscoreList)\n",
    "df.drop(['sexzscore', 'trestbpszscore', 'cholzscore', 'thalachzscore', 'exangzscore', \n",
    "         'oldpeakzscore', 'targetzscore', 'fbszscore','filteredsexzscore', \n",
    "        'filteredtrestbpszscore', 'filteredcholzscore', 'filteredthalachzscore', \n",
    "         'filteredexangzscore', 'filteredoldpeakzscore', 'filteredtargetzscore', \n",
    "         'filteredfbszscore'], axis=1)"
   ]
  },
  {
   "cell_type": "markdown",
   "id": "58fd20f8",
   "metadata": {
    "execution": {
     "iopub.execute_input": "2022-02-04T08:26:44.638685Z",
     "iopub.status.busy": "2022-02-04T08:26:44.638052Z",
     "iopub.status.idle": "2022-02-04T08:26:44.651778Z",
     "shell.execute_reply": "2022-02-04T08:26:44.650972Z",
     "shell.execute_reply.started": "2022-02-04T08:26:44.638647Z"
    },
    "papermill": {
     "duration": 0.048904,
     "end_time": "2022-06-18T07:21:59.761405",
     "exception": false,
     "start_time": "2022-06-18T07:21:59.712501",
     "status": "completed"
    },
    "tags": []
   },
   "source": [
    "4. Univariate and Bivariate Analysis"
   ]
  },
  {
   "cell_type": "markdown",
   "id": "1661b1b1",
   "metadata": {
    "papermill": {
     "duration": 0.047418,
     "end_time": "2022-06-18T07:21:59.856591",
     "exception": false,
     "start_time": "2022-06-18T07:21:59.809173",
     "status": "completed"
    },
    "tags": []
   },
   "source": [
    "i. Numerical Variables Preprocessing"
   ]
  },
  {
   "cell_type": "code",
   "execution_count": 13,
   "id": "24aff18d",
   "metadata": {
    "execution": {
     "iopub.execute_input": "2022-06-18T07:21:59.960667Z",
     "iopub.status.busy": "2022-06-18T07:21:59.959938Z",
     "iopub.status.idle": "2022-06-18T07:22:01.931671Z",
     "shell.execute_reply": "2022-06-18T07:22:01.932156Z",
     "shell.execute_reply.started": "2022-04-15T09:57:22.479665Z"
    },
    "papermill": {
     "duration": 2.027152,
     "end_time": "2022-06-18T07:22:01.932341",
     "exception": false,
     "start_time": "2022-06-18T07:21:59.905189",
     "status": "completed"
    },
    "tags": []
   },
   "outputs": [
    {
     "name": "stdout",
     "output_type": "stream",
     "text": [
      "The Scatter Plot for sex\n"
     ]
    },
    {
     "data": {
      "image/png": "[encoded data removed]",
      "text/plain": [
       "<Figure size 432x288 with 1 Axes>"
      ]
     },
     "metadata": {},
     "output_type": "display_data"
    },
    {
     "name": "stdout",
     "output_type": "stream",
     "text": [
      "\n",
      "The Scatter Plot for trestbps\n"
     ]
    },
    {
     "data": {
      "image/png": "[encoded data removed]",
      "text/plain": [
       "<Figure size 432x288 with 1 Axes>"
      ]
     },
     "metadata": {},
     "output_type": "display_data"
    },
    {
     "name": "stdout",
     "output_type": "stream",
     "text": [
      "\n",
      "The Scatter Plot for chol\n"
     ]
    },
    {
     "data": {
      "image/png": "[encoded data removed]",
      "text/plain": [
       "<Figure size 432x288 with 1 Axes>"
      ]
     },
     "metadata": {},
     "output_type": "display_data"
    },
    {
     "name": "stdout",
     "output_type": "stream",
     "text": [
      "\n",
      "The Scatter Plot for thalach\n"
     ]
    },
    {
     "data": {
      "image/png": "[encoded data removed]",
      "text/plain": [
       "<Figure size 432x288 with 1 Axes>"
      ]
     },
     "metadata": {},
     "output_type": "display_data"
    },
    {
     "name": "stdout",
     "output_type": "stream",
     "text": [
      "\n",
      "The Scatter Plot for exang\n"
     ]
    },
    {
     "data": {
      "image/png": "[encoded data removed]",
      "text/plain": [
       "<Figure size 432x288 with 1 Axes>"
      ]
     },
     "metadata": {},
     "output_type": "display_data"
    },
    {
     "name": "stdout",
     "output_type": "stream",
     "text": [
      "\n",
      "The Scatter Plot for oldpeak\n"
     ]
    },
    {
     "data": {
      "image/png": "[encoded data removed]",
      "text/plain": [
       "<Figure size 432x288 with 1 Axes>"
      ]
     },
     "metadata": {},
     "output_type": "display_data"
    },
    {
     "name": "stdout",
     "output_type": "stream",
     "text": [
      "\n",
      "The Scatter Plot for target\n"
     ]
    },
    {
     "data": {
      "image/png": "[encoded data removed]",
      "text/plain": [
       "<Figure size 432x288 with 1 Axes>"
      ]
     },
     "metadata": {},
     "output_type": "display_data"
    },
    {
     "name": "stdout",
     "output_type": "stream",
     "text": [
      "\n",
      "The Scatter Plot for fbs\n"
     ]
    },
    {
     "data": {
      "image/png": "[encoded data removed]",
      "text/plain": [
       "<Figure size 432x288 with 1 Axes>"
      ]
     },
     "metadata": {},
     "output_type": "display_data"
    },
    {
     "name": "stdout",
     "output_type": "stream",
     "text": [
      "\n"
     ]
    }
   ],
   "source": [
    "#Variation of the Numerical Variables towards the target\n",
    "\n",
    "#Part2: visualizing the Numerical Variables Scatter plot against target\n",
    "def drawScatterPlot(column):\n",
    "    sn.set_style('darkgrid')\n",
    "    plt.figure(figsize = None)\n",
    "    sn.scatterplot(x = df[column], y = df['target'])\n",
    "    plt.show()\n",
    "    \n",
    "for column in numericalVariables:\n",
    "   \n",
    "    print(f'The Scatter Plot for {column}')\n",
    "    drawScatterPlot(column)\n",
    "    print()"
   ]
  },
  {
   "cell_type": "markdown",
   "id": "9b3534ad",
   "metadata": {
    "papermill": {
     "duration": 0.056223,
     "end_time": "2022-06-18T07:22:02.045719",
     "exception": false,
     "start_time": "2022-06-18T07:22:01.989496",
     "status": "completed"
    },
    "tags": []
   },
   "source": [
    "ii. Categorical Variables Preprocessing"
   ]
  },
  {
   "cell_type": "code",
   "execution_count": 14,
   "id": "0527ac09",
   "metadata": {
    "execution": {
     "iopub.execute_input": "2022-06-18T07:22:02.189032Z",
     "iopub.status.busy": "2022-06-18T07:22:02.186865Z",
     "iopub.status.idle": "2022-06-18T07:22:03.207637Z",
     "shell.execute_reply": "2022-06-18T07:22:03.206985Z",
     "shell.execute_reply.started": "2022-04-15T09:57:24.264876Z"
    },
    "papermill": {
     "duration": 1.10441,
     "end_time": "2022-06-18T07:22:03.207789",
     "exception": false,
     "start_time": "2022-06-18T07:22:02.103379",
     "status": "completed"
    },
    "tags": []
   },
   "outputs": [
    {
     "name": "stdout",
     "output_type": "stream",
     "text": [
      "The Scatter Plot for cp\n"
     ]
    },
    {
     "data": {
      "image/png": "[encoded data removed]",
      "text/plain": [
       "<Figure size 432x288 with 1 Axes>"
      ]
     },
     "metadata": {},
     "output_type": "display_data"
    },
    {
     "name": "stdout",
     "output_type": "stream",
     "text": [
      "\n",
      "The Scatter Plot for restecg\n"
     ]
    },
    {
     "data": {
      "image/png": "[encoded data removed]",
      "text/plain": [
       "<Figure size 432x288 with 1 Axes>"
      ]
     },
     "metadata": {},
     "output_type": "display_data"
    },
    {
     "name": "stdout",
     "output_type": "stream",
     "text": [
      "\n",
      "The Scatter Plot for slope\n"
     ]
    },
    {
     "data": {
      "image/png": "[encoded data removed]",
      "text/plain": [
       "<Figure size 432x288 with 1 Axes>"
      ]
     },
     "metadata": {},
     "output_type": "display_data"
    },
    {
     "name": "stdout",
     "output_type": "stream",
     "text": [
      "\n",
      "The Scatter Plot for ca\n"
     ]
    },
    {
     "data": {
      "image/png": "[encoded data removed]",
      "text/plain": [
       "<Figure size 432x288 with 1 Axes>"
      ]
     },
     "metadata": {},
     "output_type": "display_data"
    },
    {
     "name": "stdout",
     "output_type": "stream",
     "text": [
      "\n",
      "The Scatter Plot for thal\n"
     ]
    },
    {
     "data": {
      "image/png": "[encoded data removed]",
      "text/plain": [
       "<Figure size 432x288 with 1 Axes>"
      ]
     },
     "metadata": {},
     "output_type": "display_data"
    },
    {
     "name": "stdout",
     "output_type": "stream",
     "text": [
      "\n"
     ]
    }
   ],
   "source": [
    "#Categorical varibles Prepocessing\n",
    "#Part 1 : Visualizing the Count plot of the Categorical Variable\n",
    "def drawCountPlot(column):\n",
    "    sn.set_style('darkgrid')\n",
    "    plt.figure(figsize = None)\n",
    "    sn.countplot(x = df[column])\n",
    "    plt.show()\n",
    "    \n",
    "for column in categoricalVariables:\n",
    "   \n",
    "    print(f'The Scatter Plot for {column}')\n",
    "    drawCountPlot(column)\n",
    "    print()"
   ]
  },
  {
   "cell_type": "code",
   "execution_count": 15,
   "id": "a942e84a",
   "metadata": {
    "execution": {
     "iopub.execute_input": "2022-06-18T07:22:03.338523Z",
     "iopub.status.busy": "2022-06-18T07:22:03.337489Z",
     "iopub.status.idle": "2022-06-18T07:22:04.928891Z",
     "shell.execute_reply": "2022-06-18T07:22:04.929399Z",
     "shell.execute_reply.started": "2022-04-15T09:57:25.276428Z"
    },
    "papermill": {
     "duration": 1.657069,
     "end_time": "2022-06-18T07:22:04.929581",
     "exception": false,
     "start_time": "2022-06-18T07:22:03.272512",
     "status": "completed"
    },
    "tags": []
   },
   "outputs": [
    {
     "name": "stdout",
     "output_type": "stream",
     "text": [
      "The Scatter Plot for cp\n"
     ]
    },
    {
     "data": {
      "image/png": "[encoded data removed]",
      "text/plain": [
       "<Figure size 432x288 with 1 Axes>"
      ]
     },
     "metadata": {},
     "output_type": "display_data"
    },
    {
     "name": "stdout",
     "output_type": "stream",
     "text": [
      "\n",
      "The Scatter Plot for restecg\n"
     ]
    },
    {
     "data": {
      "image/png": "[encoded data removed]",
      "text/plain": [
       "<Figure size 432x288 with 1 Axes>"
      ]
     },
     "metadata": {},
     "output_type": "display_data"
    },
    {
     "name": "stdout",
     "output_type": "stream",
     "text": [
      "\n",
      "The Scatter Plot for slope\n"
     ]
    },
    {
     "data": {
      "image/png": "[encoded data removed]",
      "text/plain": [
       "<Figure size 432x288 with 1 Axes>"
      ]
     },
     "metadata": {},
     "output_type": "display_data"
    },
    {
     "name": "stdout",
     "output_type": "stream",
     "text": [
      "\n",
      "The Scatter Plot for ca\n"
     ]
    },
    {
     "data": {
      "image/png": "[encoded data removed]",
      "text/plain": [
       "<Figure size 432x288 with 1 Axes>"
      ]
     },
     "metadata": {},
     "output_type": "display_data"
    },
    {
     "name": "stdout",
     "output_type": "stream",
     "text": [
      "\n",
      "The Scatter Plot for thal\n"
     ]
    },
    {
     "data": {
      "image/png": "[encoded data removed]",
      "text/plain": [
       "<Figure size 432x288 with 1 Axes>"
      ]
     },
     "metadata": {},
     "output_type": "display_data"
    },
    {
     "name": "stdout",
     "output_type": "stream",
     "text": [
      "\n"
     ]
    }
   ],
   "source": [
    "#Part 2 : Visualizing the Bar plot of the Categorical Variable against target\n",
    "def drawBarPlot(column):\n",
    "    sn.set_style('darkgrid')\n",
    "    plt.figure(figsize = None)\n",
    "    sn.barplot(x = df[column], y= df['target'])\n",
    "    plt.show()\n",
    "    \n",
    "for column in categoricalVariables:\n",
    "   \n",
    "    print(f'The Scatter Plot for {column}')\n",
    "    drawBarPlot(column)\n",
    "    print()"
   ]
  },
  {
   "cell_type": "markdown",
   "id": "d396ac3d",
   "metadata": {
    "papermill": {
     "duration": 0.067548,
     "end_time": "2022-06-18T07:22:05.065725",
     "exception": false,
     "start_time": "2022-06-18T07:22:04.998177",
     "status": "completed"
    },
    "tags": []
   },
   "source": [
    "5. Feature Engineering"
   ]
  },
  {
   "cell_type": "code",
   "execution_count": 16,
   "id": "4ac553a3",
   "metadata": {
    "execution": {
     "iopub.execute_input": "2022-06-18T07:22:05.207909Z",
     "iopub.status.busy": "2022-06-18T07:22:05.204327Z",
     "iopub.status.idle": "2022-06-18T07:22:05.406710Z",
     "shell.execute_reply": "2022-06-18T07:22:05.406046Z",
     "shell.execute_reply.started": "2022-04-15T09:57:26.742842Z"
    },
    "papermill": {
     "duration": 0.273281,
     "end_time": "2022-06-18T07:22:05.406853",
     "exception": false,
     "start_time": "2022-06-18T07:22:05.133572",
     "status": "completed"
    },
    "tags": []
   },
   "outputs": [
    {
     "data": {
      "text/plain": [
       "((242, 26), (61, 26))"
      ]
     },
     "execution_count": 16,
     "metadata": {},
     "output_type": "execute_result"
    }
   ],
   "source": [
    "#Splitting training, testing data\n",
    "from sklearn.model_selection import train_test_split\n",
    "from sklearn.model_selection import cross_val_score\n",
    "from sklearn.preprocessing import MinMaxScaler, StandardScaler\n",
    "from sklearn.compose import ColumnTransformer\n",
    "from sklearn.preprocessing import LabelEncoder,OneHotEncoder\n",
    "\n",
    "test = df['target']\n",
    "train = df.drop(['target','fbs','restecg','trestbps'],axis =1)\n",
    "\n",
    "\n",
    "x_train, x_test, y_train, y_test = train_test_split(train, test , test_size = .2, random_state = 2)\n",
    "\n",
    "x_train.shape, x_test.shape"
   ]
  },
  {
   "cell_type": "code",
   "execution_count": 17,
   "id": "5b333e50",
   "metadata": {
    "execution": {
     "iopub.execute_input": "2022-06-18T07:22:05.547556Z",
     "iopub.status.busy": "2022-06-18T07:22:05.546360Z",
     "iopub.status.idle": "2022-06-18T07:22:05.552449Z",
     "shell.execute_reply": "2022-06-18T07:22:05.553062Z",
     "shell.execute_reply.started": "2022-04-15T09:57:26.893416Z"
    },
    "papermill": {
     "duration": 0.078888,
     "end_time": "2022-06-18T07:22:05.553281",
     "exception": false,
     "start_time": "2022-06-18T07:22:05.474393",
     "status": "completed"
    },
    "tags": []
   },
   "outputs": [
    {
     "data": {
      "text/plain": [
       "((242,), (61,))"
      ]
     },
     "execution_count": 17,
     "metadata": {},
     "output_type": "execute_result"
    }
   ],
   "source": [
    "y_train.shape, y_test.shape"
   ]
  },
  {
   "cell_type": "code",
   "execution_count": 18,
   "id": "fede0c5b",
   "metadata": {
    "execution": {
     "iopub.execute_input": "2022-06-18T07:22:05.698213Z",
     "iopub.status.busy": "2022-06-18T07:22:05.697127Z",
     "iopub.status.idle": "2022-06-18T07:22:05.710257Z",
     "shell.execute_reply": "2022-06-18T07:22:05.710779Z",
     "shell.execute_reply.started": "2022-04-15T09:57:26.90235Z"
    },
    "papermill": {
     "duration": 0.088238,
     "end_time": "2022-06-18T07:22:05.710953",
     "exception": false,
     "start_time": "2022-06-18T07:22:05.622715",
     "status": "completed"
    },
    "tags": []
   },
   "outputs": [],
   "source": [
    "# FeatureTransformation\n",
    "\n",
    "#Standardize Data (Feature Scaling)\n",
    "\n",
    "ss = StandardScaler()\n",
    "column_names = x_train.columns\n",
    "x_train = pd.DataFrame(ss.fit_transform(x_train), columns =column_names)\n",
    "x_test = pd.DataFrame(ss.fit_transform(x_test), columns =column_names)\n"
   ]
  },
  {
   "cell_type": "code",
   "execution_count": 19,
   "id": "d239a091",
   "metadata": {
    "execution": {
     "iopub.execute_input": "2022-06-18T07:22:05.853532Z",
     "iopub.status.busy": "2022-06-18T07:22:05.852474Z",
     "iopub.status.idle": "2022-06-18T07:22:05.878066Z",
     "shell.execute_reply": "2022-06-18T07:22:05.878611Z",
     "shell.execute_reply.started": "2022-04-15T09:57:26.920014Z"
    },
    "papermill": {
     "duration": 0.097346,
     "end_time": "2022-06-18T07:22:05.878792",
     "exception": false,
     "start_time": "2022-06-18T07:22:05.781446",
     "status": "completed"
    },
    "tags": []
   },
   "outputs": [
    {
     "data": {
      "text/html": [
       "<div>\n",
       "<style scoped>\n",
       "    .dataframe tbody tr th:only-of-type {\n",
       "        vertical-align: middle;\n",
       "    }\n",
       "\n",
       "    .dataframe tbody tr th {\n",
       "        vertical-align: top;\n",
       "    }\n",
       "\n",
       "    .dataframe thead th {\n",
       "        text-align: right;\n",
       "    }\n",
       "</style>\n",
       "<table border=\"1\" class=\"dataframe\">\n",
       "  <thead>\n",
       "    <tr style=\"text-align: right;\">\n",
       "      <th></th>\n",
       "      <th>age</th>\n",
       "      <th>sex</th>\n",
       "      <th>cp</th>\n",
       "      <th>chol</th>\n",
       "      <th>thalach</th>\n",
       "      <th>exang</th>\n",
       "      <th>oldpeak</th>\n",
       "      <th>slope</th>\n",
       "      <th>ca</th>\n",
       "      <th>thal</th>\n",
       "      <th>...</th>\n",
       "      <th>targetzscore</th>\n",
       "      <th>fbszscore</th>\n",
       "      <th>filteredsexzscore</th>\n",
       "      <th>filteredtrestbpszscore</th>\n",
       "      <th>filteredcholzscore</th>\n",
       "      <th>filteredthalachzscore</th>\n",
       "      <th>filteredexangzscore</th>\n",
       "      <th>filteredoldpeakzscore</th>\n",
       "      <th>filteredtargetzscore</th>\n",
       "      <th>filteredfbszscore</th>\n",
       "    </tr>\n",
       "  </thead>\n",
       "  <tbody>\n",
       "    <tr>\n",
       "      <th>0</th>\n",
       "      <td>0.557223</td>\n",
       "      <td>0.689645</td>\n",
       "      <td>-0.941113</td>\n",
       "      <td>0.860207</td>\n",
       "      <td>0.881545</td>\n",
       "      <td>-0.676632</td>\n",
       "      <td>0.145841</td>\n",
       "      <td>-0.675060</td>\n",
       "      <td>1.314836</td>\n",
       "      <td>1.144972</td>\n",
       "      <td>...</td>\n",
       "      <td>1.132704</td>\n",
       "      <td>-0.404304</td>\n",
       "      <td>0.0</td>\n",
       "      <td>0.091287</td>\n",
       "      <td>0.129641</td>\n",
       "      <td>0.064416</td>\n",
       "      <td>0.0</td>\n",
       "      <td>0.091287</td>\n",
       "      <td>0.0</td>\n",
       "      <td>0.0</td>\n",
       "    </tr>\n",
       "    <tr>\n",
       "      <th>1</th>\n",
       "      <td>1.543914</td>\n",
       "      <td>0.689645</td>\n",
       "      <td>1.954006</td>\n",
       "      <td>-0.277229</td>\n",
       "      <td>-0.857954</td>\n",
       "      <td>-0.676632</td>\n",
       "      <td>-0.787404</td>\n",
       "      <td>-0.675060</td>\n",
       "      <td>0.298254</td>\n",
       "      <td>-0.475398</td>\n",
       "      <td>...</td>\n",
       "      <td>-0.882843</td>\n",
       "      <td>2.473388</td>\n",
       "      <td>0.0</td>\n",
       "      <td>0.091287</td>\n",
       "      <td>0.129641</td>\n",
       "      <td>0.064416</td>\n",
       "      <td>0.0</td>\n",
       "      <td>0.091287</td>\n",
       "      <td>0.0</td>\n",
       "      <td>0.0</td>\n",
       "    </tr>\n",
       "    <tr>\n",
       "      <th>2</th>\n",
       "      <td>-0.100572</td>\n",
       "      <td>0.689645</td>\n",
       "      <td>-0.941113</td>\n",
       "      <td>-0.180836</td>\n",
       "      <td>0.435520</td>\n",
       "      <td>-0.676632</td>\n",
       "      <td>0.145841</td>\n",
       "      <td>0.958585</td>\n",
       "      <td>-0.718329</td>\n",
       "      <td>-0.475398</td>\n",
       "      <td>...</td>\n",
       "      <td>-0.882843</td>\n",
       "      <td>-0.404304</td>\n",
       "      <td>0.0</td>\n",
       "      <td>0.091287</td>\n",
       "      <td>0.129641</td>\n",
       "      <td>0.064416</td>\n",
       "      <td>0.0</td>\n",
       "      <td>0.091287</td>\n",
       "      <td>0.0</td>\n",
       "      <td>0.0</td>\n",
       "    </tr>\n",
       "    <tr>\n",
       "      <th>3</th>\n",
       "      <td>1.215017</td>\n",
       "      <td>-1.450022</td>\n",
       "      <td>0.988967</td>\n",
       "      <td>0.571028</td>\n",
       "      <td>0.078700</td>\n",
       "      <td>-0.676632</td>\n",
       "      <td>-0.872244</td>\n",
       "      <td>-0.675060</td>\n",
       "      <td>0.298254</td>\n",
       "      <td>-0.475398</td>\n",
       "      <td>...</td>\n",
       "      <td>-0.882843</td>\n",
       "      <td>-0.404304</td>\n",
       "      <td>0.0</td>\n",
       "      <td>0.091287</td>\n",
       "      <td>0.129641</td>\n",
       "      <td>0.064416</td>\n",
       "      <td>0.0</td>\n",
       "      <td>0.091287</td>\n",
       "      <td>0.0</td>\n",
       "      <td>0.0</td>\n",
       "    </tr>\n",
       "    <tr>\n",
       "      <th>4</th>\n",
       "      <td>0.447590</td>\n",
       "      <td>0.689645</td>\n",
       "      <td>0.023927</td>\n",
       "      <td>-0.527850</td>\n",
       "      <td>0.613930</td>\n",
       "      <td>1.477907</td>\n",
       "      <td>-0.872244</td>\n",
       "      <td>0.958585</td>\n",
       "      <td>-0.718329</td>\n",
       "      <td>-0.475398</td>\n",
       "      <td>...</td>\n",
       "      <td>-0.882843</td>\n",
       "      <td>-0.404304</td>\n",
       "      <td>0.0</td>\n",
       "      <td>0.091287</td>\n",
       "      <td>0.129641</td>\n",
       "      <td>0.064416</td>\n",
       "      <td>0.0</td>\n",
       "      <td>0.091287</td>\n",
       "      <td>0.0</td>\n",
       "      <td>0.0</td>\n",
       "    </tr>\n",
       "  </tbody>\n",
       "</table>\n",
       "<p>5 rows × 26 columns</p>\n",
       "</div>"
      ],
      "text/plain": [
       "        age       sex        cp      chol   thalach     exang   oldpeak  \\\n",
       "0  0.557223  0.689645 -0.941113  0.860207  0.881545 -0.676632  0.145841   \n",
       "1  1.543914  0.689645  1.954006 -0.277229 -0.857954 -0.676632 -0.787404   \n",
       "2 -0.100572  0.689645 -0.941113 -0.180836  0.435520 -0.676632  0.145841   \n",
       "3  1.215017 -1.450022  0.988967  0.571028  0.078700 -0.676632 -0.872244   \n",
       "4  0.447590  0.689645  0.023927 -0.527850  0.613930  1.477907 -0.872244   \n",
       "\n",
       "      slope        ca      thal  ...  targetzscore  fbszscore  \\\n",
       "0 -0.675060  1.314836  1.144972  ...      1.132704  -0.404304   \n",
       "1 -0.675060  0.298254 -0.475398  ...     -0.882843   2.473388   \n",
       "2  0.958585 -0.718329 -0.475398  ...     -0.882843  -0.404304   \n",
       "3 -0.675060  0.298254 -0.475398  ...     -0.882843  -0.404304   \n",
       "4  0.958585 -0.718329 -0.475398  ...     -0.882843  -0.404304   \n",
       "\n",
       "   filteredsexzscore  filteredtrestbpszscore  filteredcholzscore  \\\n",
       "0                0.0                0.091287            0.129641   \n",
       "1                0.0                0.091287            0.129641   \n",
       "2                0.0                0.091287            0.129641   \n",
       "3                0.0                0.091287            0.129641   \n",
       "4                0.0                0.091287            0.129641   \n",
       "\n",
       "   filteredthalachzscore  filteredexangzscore  filteredoldpeakzscore  \\\n",
       "0               0.064416                  0.0               0.091287   \n",
       "1               0.064416                  0.0               0.091287   \n",
       "2               0.064416                  0.0               0.091287   \n",
       "3               0.064416                  0.0               0.091287   \n",
       "4               0.064416                  0.0               0.091287   \n",
       "\n",
       "   filteredtargetzscore  filteredfbszscore  \n",
       "0                   0.0                0.0  \n",
       "1                   0.0                0.0  \n",
       "2                   0.0                0.0  \n",
       "3                   0.0                0.0  \n",
       "4                   0.0                0.0  \n",
       "\n",
       "[5 rows x 26 columns]"
      ]
     },
     "execution_count": 19,
     "metadata": {},
     "output_type": "execute_result"
    }
   ],
   "source": [
    "x_train.head()"
   ]
  },
  {
   "cell_type": "code",
   "execution_count": 20,
   "id": "a0cc7466",
   "metadata": {
    "execution": {
     "iopub.execute_input": "2022-06-18T07:22:06.023835Z",
     "iopub.status.busy": "2022-06-18T07:22:06.022812Z",
     "iopub.status.idle": "2022-06-18T07:22:06.032168Z",
     "shell.execute_reply": "2022-06-18T07:22:06.032804Z",
     "shell.execute_reply.started": "2022-04-15T09:57:26.946519Z"
    },
    "papermill": {
     "duration": 0.084255,
     "end_time": "2022-06-18T07:22:06.032981",
     "exception": false,
     "start_time": "2022-06-18T07:22:05.948726",
     "status": "completed"
    },
    "tags": []
   },
   "outputs": [
    {
     "data": {
      "text/plain": [
       "age                      -0.225439\n",
       "sex                      -0.280937\n",
       "cp                        0.433798\n",
       "trestbps                 -0.144931\n",
       "chol                     -0.085239\n",
       "fbs                      -0.028046\n",
       "restecg                   0.137230\n",
       "thalach                   0.421741\n",
       "exang                    -0.436757\n",
       "oldpeak                  -0.430696\n",
       "slope                     0.345877\n",
       "ca                       -0.391724\n",
       "thal                     -0.344029\n",
       "target                    1.000000\n",
       "sexzscore                 0.280937\n",
       "trestbpszscore           -0.067557\n",
       "cholzscore               -0.001287\n",
       "thalachzscore            -0.079267\n",
       "exangzscore              -0.436757\n",
       "oldpeakzscore            -0.203745\n",
       "targetzscore             -1.000000\n",
       "fbszscore                -0.028046\n",
       "filteredsexzscore              NaN\n",
       "filteredtrestbpszscore    0.089132\n",
       "filteredcholzscore        0.010348\n",
       "filteredthalachzscore     0.062921\n",
       "filteredexangzscore            NaN\n",
       "filteredoldpeakzscore     0.089132\n",
       "filteredtargetzscore           NaN\n",
       "filteredfbszscore              NaN\n",
       "Name: target, dtype: float64"
      ]
     },
     "execution_count": 20,
     "metadata": {},
     "output_type": "execute_result"
    }
   ],
   "source": [
    "#Feature Selection\n",
    "df.corr()['target']"
   ]
  },
  {
   "cell_type": "markdown",
   "id": "63d9ab36",
   "metadata": {
    "papermill": {
     "duration": 0.069141,
     "end_time": "2022-06-18T07:22:06.171529",
     "exception": false,
     "start_time": "2022-06-18T07:22:06.102388",
     "status": "completed"
    },
    "tags": []
   },
   "source": [
    "5. Algorithm Tuning "
   ]
  },
  {
   "cell_type": "code",
   "execution_count": 21,
   "id": "291a85da",
   "metadata": {
    "execution": {
     "iopub.execute_input": "2022-06-18T07:22:06.314192Z",
     "iopub.status.busy": "2022-06-18T07:22:06.313210Z",
     "iopub.status.idle": "2022-06-18T07:22:06.521108Z",
     "shell.execute_reply": "2022-06-18T07:22:06.520483Z",
     "shell.execute_reply.started": "2022-04-15T09:57:26.956927Z"
    },
    "papermill": {
     "duration": 0.280145,
     "end_time": "2022-06-18T07:22:06.521291",
     "exception": false,
     "start_time": "2022-06-18T07:22:06.241146",
     "status": "completed"
    },
    "tags": []
   },
   "outputs": [],
   "source": [
    "#Import the Hyperparameters tuning libraries\n",
    "from sklearn.ensemble import RandomForestClassifier\n",
    "from sklearn.tree import DecisionTreeClassifier\n",
    "from sklearn.model_selection import RandomizedSearchCV\n",
    "from scipy.stats import randint\n",
    "\n"
   ]
  },
  {
   "cell_type": "code",
   "execution_count": 22,
   "id": "69b2ce42",
   "metadata": {
    "execution": {
     "iopub.execute_input": "2022-06-18T07:22:06.673033Z",
     "iopub.status.busy": "2022-06-18T07:22:06.672340Z",
     "iopub.status.idle": "2022-06-18T07:23:23.943881Z",
     "shell.execute_reply": "2022-06-18T07:23:23.944426Z",
     "shell.execute_reply.started": "2022-04-15T09:57:27.098529Z"
    },
    "papermill": {
     "duration": 77.353455,
     "end_time": "2022-06-18T07:23:23.944616",
     "exception": false,
     "start_time": "2022-06-18T07:22:06.591161",
     "status": "completed"
    },
    "tags": []
   },
   "outputs": [
    {
     "data": {
      "text/plain": [
       "({'bootstrap': False,\n",
       "  'criterion': 'entropy',\n",
       "  'max_depth': None,\n",
       "  'max_features': 2,\n",
       "  'min_samples_leaf': 1,\n",
       "  'n_estimators': 500},\n",
       " 0.9876543209876544)"
      ]
     },
     "execution_count": 22,
     "metadata": {},
     "output_type": "execute_result"
    }
   ],
   "source": [
    "#Tuning Random Forest Algorithm\n",
    "#finding the best parameters for the Random Forest Regressor\n",
    "#Set up the Parameter and distribution to sample form : Param_list\n",
    "randomForestParametersDistribution= {'max_depth':[3,5,10,None],\n",
    "              'n_estimators':[10,100,200,300,400,500],\n",
    "              'max_features':randint(1,3),\n",
    "               'criterion':['gini','entropy'],\n",
    "               'bootstrap':[True,False],\n",
    "               'min_samples_leaf':randint(1,4),\n",
    "              }\n",
    "#Instanstiate a RandomForestClassifier\n",
    "randomForestEstimator= RandomForestClassifier(n_jobs=-1)\n",
    "\n",
    "\n",
    "#Instatiate the RandomizedSearchCV object: randomsearch\n",
    "def hypertuning_rscv(randomForestEstimator,randomForestParametersDistribution, noOfIterations,x_train,y_train):\n",
    "    randomsearch = RandomizedSearchCV(randomForestEstimator,param_distributions=randomForestParametersDistribution,\n",
    "                                  n_jobs=-1, n_iter=noOfIterations, cv=9)\n",
    "    #CV = Cross-Validation ( here using Stratified KFold CV)\n",
    "    #fit it to the data\n",
    "    randomsearch.fit(x_train, y_train)\n",
    "    hypertuningParameters =randomsearch.best_params_\n",
    "    hypertuningScore =randomsearch.best_score_\n",
    "    return hypertuningParameters,hypertuningScore\n",
    "\n",
    "randomForestParameters, randomForestHypertuningscore = hypertuning_rscv(randomForestEstimator,randomForestParametersDistribution, 40,x_train, y_train)\n",
    "randomForestParameters, randomForestHypertuningscore"
   ]
  },
  {
   "cell_type": "code",
   "execution_count": 23,
   "id": "718b39dd",
   "metadata": {
    "execution": {
     "iopub.execute_input": "2022-06-18T07:23:24.102091Z",
     "iopub.status.busy": "2022-06-18T07:23:24.097271Z",
     "iopub.status.idle": "2022-06-18T07:23:24.335817Z",
     "shell.execute_reply": "2022-06-18T07:23:24.335070Z",
     "shell.execute_reply.started": "2022-04-15T09:59:23.850029Z"
    },
    "papermill": {
     "duration": 0.322129,
     "end_time": "2022-06-18T07:23:24.335971",
     "exception": false,
     "start_time": "2022-06-18T07:23:24.013842",
     "status": "completed"
    },
    "tags": []
   },
   "outputs": [
    {
     "data": {
      "text/plain": [
       "({'criterion': 'gini', 'max_depth': 3, 'min_samples_leaf': 4}, 1.0)"
      ]
     },
     "execution_count": 23,
     "metadata": {},
     "output_type": "execute_result"
    }
   ],
   "source": [
    "#Tuning Decision Tree Algorithm\n",
    "#finding the best parameters for the Decision Tree Classifier\n",
    "\n",
    "#Set up the Parameter and distribution to sample form : Param_list\n",
    "DecisionTreeParametersDistribution = {'max_depth': [3,None], \n",
    "                     'min_samples_leaf': randint(1,9),\n",
    "                     'criterion':['gini', 'entropy']}\n",
    "#Instanstiate a DecisionTreeClassifier\n",
    "DecisionTreeEstimator = DecisionTreeClassifier()\n",
    "\n",
    "#Instatiate the RandomizedSearchCV object: DecisionTreeCV\n",
    "DecisionTreeCV= RandomizedSearchCV(DecisionTreeEstimator,DecisionTreeParametersDistribution, cv=5 )\n",
    "\n",
    "#fit it to the data\n",
    "DecisionTreeCV.fit(x_train,y_train)\n",
    "\n",
    "#Print the Parameter and Hypertuning Scores\n",
    "hypertuningParameters =DecisionTreeCV.best_params_\n",
    "hypertuningScore =DecisionTreeCV.best_score_\n",
    "\n",
    "hypertuningParameters,hypertuningScore "
   ]
  },
  {
   "cell_type": "markdown",
   "id": "024786ec",
   "metadata": {
    "execution": {
     "iopub.status.busy": "2022-02-04T16:49:32.600589Z",
     "iopub.status.idle": "2022-02-04T16:49:32.601444Z",
     "shell.execute_reply": "2022-02-04T16:49:32.60117Z",
     "shell.execute_reply.started": "2022-02-04T16:49:32.601138Z"
    },
    "papermill": {
     "duration": 0.07008,
     "end_time": "2022-06-18T07:23:24.476167",
     "exception": false,
     "start_time": "2022-06-18T07:23:24.406087",
     "status": "completed"
    },
    "tags": []
   },
   "source": [
    "6. Model Building"
   ]
  },
  {
   "cell_type": "markdown",
   "id": "818bcfa0",
   "metadata": {
    "papermill": {
     "duration": 0.069718,
     "end_time": "2022-06-18T07:23:24.618132",
     "exception": false,
     "start_time": "2022-06-18T07:23:24.548414",
     "status": "completed"
    },
    "tags": []
   },
   "source": [
    "Linear Regression Model, decisionTree, randomForest"
   ]
  },
  {
   "cell_type": "markdown",
   "id": "9fd7c332",
   "metadata": {
    "papermill": {
     "duration": 0.069501,
     "end_time": "2022-06-18T07:23:24.757515",
     "exception": false,
     "start_time": "2022-06-18T07:23:24.688014",
     "status": "completed"
    },
    "tags": []
   },
   "source": [
    "Model without Hyperparameter tuning"
   ]
  },
  {
   "cell_type": "code",
   "execution_count": 24,
   "id": "b79c5a80",
   "metadata": {
    "execution": {
     "iopub.execute_input": "2022-06-18T07:23:24.906743Z",
     "iopub.status.busy": "2022-06-18T07:23:24.906026Z",
     "iopub.status.idle": "2022-06-18T07:23:25.027865Z",
     "shell.execute_reply": "2022-06-18T07:23:25.027033Z",
     "shell.execute_reply.started": "2022-04-15T09:59:24.054094Z"
    },
    "papermill": {
     "duration": 0.199429,
     "end_time": "2022-06-18T07:23:25.028219",
     "exception": true,
     "start_time": "2022-06-18T07:23:24.828790",
     "status": "failed"
    },
    "tags": []
   },
   "outputs": [
    {
     "ename": "NameError",
     "evalue": "name 'LogisticRegression' is not defined",
     "output_type": "error",
     "traceback": [
      "\u001b[0;31m---------------------------------------------------------------------------\u001b[0m",
      "\u001b[0;31mNameError\u001b[0m                                 Traceback (most recent call last)",
      "\u001b[0;32m/tmp/ipykernel_19/1896802846.py\u001b[0m in \u001b[0;36m<module>\u001b[0;34m\u001b[0m\n\u001b[1;32m      1\u001b[0m \u001b[0;31m#Machine Learning Algorithms\u001b[0m\u001b[0;34m\u001b[0m\u001b[0;34m\u001b[0m\u001b[0;34m\u001b[0m\u001b[0m\n\u001b[0;32m----> 2\u001b[0;31m \u001b[0mlogisticRegression\u001b[0m \u001b[0;34m=\u001b[0m \u001b[0mLogisticRegression\u001b[0m\u001b[0;34m(\u001b[0m\u001b[0;34m)\u001b[0m\u001b[0;34m\u001b[0m\u001b[0;34m\u001b[0m\u001b[0m\n\u001b[0m\u001b[1;32m      3\u001b[0m \u001b[0mdecisionTree\u001b[0m \u001b[0;34m=\u001b[0m \u001b[0mDecisionTreeClassifier\u001b[0m\u001b[0;34m(\u001b[0m\u001b[0;34m)\u001b[0m\u001b[0;34m\u001b[0m\u001b[0;34m\u001b[0m\u001b[0m\n\u001b[1;32m      4\u001b[0m \u001b[0mrandomForest\u001b[0m\u001b[0;34m=\u001b[0m\u001b[0mRandomForestClassifier\u001b[0m\u001b[0;34m(\u001b[0m\u001b[0;34m)\u001b[0m\u001b[0;34m\u001b[0m\u001b[0;34m\u001b[0m\u001b[0m\n\u001b[1;32m      5\u001b[0m \u001b[0;34m\u001b[0m\u001b[0m\n",
      "\u001b[0;31mNameError\u001b[0m: name 'LogisticRegression' is not defined"
     ]
    }
   ],
   "source": [
    "#Machine Learning Algorithms\n",
    "logisticRegression = LogisticRegression()\n",
    "decisionTree = DecisionTreeClassifier()\n",
    "randomForest=RandomForestClassifier()\n",
    "\n",
    "MachineLearningAlgorithms= [logisticRegression, decisionTree, randomForest]\n",
    "MachineLearningAlgorithms\n",
    "\n",
    "for MachineLearningAlgorithm in MachineLearningAlgorithms:\n",
    "    \n",
    "    #fitting the model\n",
    "    print(f'fitting the {MachineLearningAlgorithm} model')\n",
    "    print()\n",
    "    MachineLearningAlgorithm= MachineLearningAlgorithm.fit(x_train,y_train)\n",
    "    \n",
    "    #Training Data Prediction and Metrics\n",
    "    #Predictions\n",
    "    y_pred = MachineLearningAlgorithm.predict(x_train)\n",
    "    #Metrics\n",
    "    print(f'The Metrics of the {MachineLearningAlgorithm} Training model')\n",
    " \n",
    "    print('R2 score',metrics.r2_score(y_train,y_pred))\n",
    "    print()\n",
    "    \n",
    "    #Testing Data Prediction and Metrics\n",
    "    #Predictions\n",
    "    y_pred = MachineLearningAlgorithm.predict(x_test)\n",
    "    #Metrics\n",
    "    print(f'The Metrics of the {MachineLearningAlgorithm} Testing model')\n",
    "    print('R2 score',metrics.r2_score(y_test,y_pred))\n",
    "    print()\n"
   ]
  },
  {
   "cell_type": "markdown",
   "id": "7c2509f3",
   "metadata": {
    "papermill": {
     "duration": null,
     "end_time": null,
     "exception": null,
     "start_time": null,
     "status": "pending"
    },
    "tags": []
   },
   "source": [
    "Model with Hyperparameter tuning"
   ]
  },
  {
   "cell_type": "code",
   "execution_count": null,
   "id": "382ff3c3",
   "metadata": {
    "execution": {
     "iopub.status.busy": "2022-04-15T09:59:24.163103Z",
     "iopub.status.idle": "2022-04-15T09:59:24.164021Z",
     "shell.execute_reply": "2022-04-15T09:59:24.163797Z",
     "shell.execute_reply.started": "2022-04-15T09:59:24.163772Z"
    },
    "papermill": {
     "duration": null,
     "end_time": null,
     "exception": null,
     "start_time": null,
     "status": "pending"
    },
    "tags": []
   },
   "outputs": [],
   "source": [
    "#import Model building libraries\n",
    "from sklearn.linear_model import LogisticRegression\n",
    "from sklearn.ensemble import RandomForestClassifier\n",
    "from sklearn.tree import DecisionTreeClassifier\n",
    "from sklearn import metrics\n",
    "\n",
    "#Machine Learning Algorithms\n",
    "logisticRegression = LogisticRegression()\n",
    "decisionTree = DecisionTreeClassifier(criterion= 'gini', max_depth= 3, min_samples_leaf= 1)\n",
    "randomForest=RandomForestClassifier(bootstrap= True,\n",
    "                                  criterion= 'entropy',\n",
    "                                  max_depth= 3,\n",
    "                                  max_features= 2,\n",
    "                                  min_samples_leaf= 3,\n",
    "                                  n_estimators= 400)\n",
    "\n",
    "MachineLearningAlgorithms= [logisticRegression, decisionTree, randomForest]\n",
    "MachineLearningAlgorithms\n",
    "\n",
    "for MachineLearningAlgorithm in MachineLearningAlgorithms:\n",
    "    \n",
    "    #fitting the model\n",
    "    print(f'fitting the {MachineLearningAlgorithm} model')\n",
    "    print()\n",
    "    MachineLearningAlgorithm= MachineLearningAlgorithm.fit(x_train,y_train)\n",
    "    \n",
    "    #Training Data Prediction and Metrics\n",
    "    #Predictions\n",
    "    y_pred = MachineLearningAlgorithm.predict(x_train)\n",
    "    #Metrics\n",
    "    print(f'The Metrics of the {MachineLearningAlgorithm} Training model')\n",
    "    print('R2 score',metrics.r2_score(y_train,y_pred))\n",
    "    print()\n",
    "    \n",
    "    \n",
    "    #Testing Data Prediction and Metrics\n",
    "    #Predictions\n",
    "    y_pred = MachineLearningAlgorithm.predict(x_test)\n",
    "    #Metrics\n",
    "    print(f'The Metrics of the {MachineLearningAlgorithm} Testing model')\n",
    "    print('R2 score',metrics.r2_score(y_test,y_pred))\n",
    "    print()\n"
   ]
  },
  {
   "cell_type": "markdown",
   "id": "96a4cd09",
   "metadata": {
    "papermill": {
     "duration": null,
     "end_time": null,
     "exception": null,
     "start_time": null,
     "status": "pending"
    },
    "tags": []
   },
   "source": [
    "7. Ensemble Method "
   ]
  },
  {
   "cell_type": "code",
   "execution_count": null,
   "id": "483b2ae6",
   "metadata": {
    "execution": {
     "iopub.status.busy": "2022-04-15T09:59:24.165343Z",
     "iopub.status.idle": "2022-04-15T09:59:24.165762Z",
     "shell.execute_reply": "2022-04-15T09:59:24.165565Z",
     "shell.execute_reply.started": "2022-04-15T09:59:24.16553Z"
    },
    "papermill": {
     "duration": null,
     "end_time": null,
     "exception": null,
     "start_time": null,
     "status": "pending"
    },
    "tags": []
   },
   "outputs": [],
   "source": [
    "\n",
    "from sklearn import model_selection\n",
    "from sklearn.ensemble import BaggingClassifier\n",
    "\n",
    "\n",
    "#Create random sub sample to train multiple models\n",
    "kfold = model_selection.KFold(n_splits = 5)\n",
    "  \n",
    "# initialize the base classifier\n",
    "baseClassifier = DecisionTreeClassifier()\n",
    "  \n",
    "# no. of base classifier\n",
    "numberOfTrees= 50\n",
    "  \n",
    "# creating the bagging classifier model\n",
    "# bagging classifier\n",
    "model = BaggingClassifier(base_estimator = baseClassifier,\n",
    "                          n_estimators = numberOfTrees)\n",
    "\n",
    "#Train Different models and print their accuracy\n",
    "results = model_selection.cross_val_score(model,x_train,y_train, cv = kfold)\n",
    "for i in range(len(results)):\n",
    "    print(f'Model {str(i)} Accuracy is {str(results[i])}')\n",
    "\n",
    "#Print Mean Accuracy\n",
    "print()\n",
    "print(f'The mean Accuracy is {str(results.mean())}')\n",
    "\n"
   ]
  },
  {
   "cell_type": "markdown",
   "id": "f6f3da97",
   "metadata": {
    "papermill": {
     "duration": null,
     "end_time": null,
     "exception": null,
     "start_time": null,
     "status": "pending"
    },
    "tags": []
   },
   "source": [
    "Prediciting Using the Decision Tree Ensembel Method"
   ]
  },
  {
   "cell_type": "code",
   "execution_count": null,
   "id": "cd6ab4f1",
   "metadata": {
    "execution": {
     "iopub.status.busy": "2022-04-15T09:59:24.167082Z",
     "iopub.status.idle": "2022-04-15T09:59:24.167478Z",
     "shell.execute_reply": "2022-04-15T09:59:24.167284Z",
     "shell.execute_reply.started": "2022-04-15T09:59:24.167261Z"
    },
    "papermill": {
     "duration": null,
     "end_time": null,
     "exception": null,
     "start_time": null,
     "status": "pending"
    },
    "tags": []
   },
   "outputs": [],
   "source": [
    "#fitting the model\n",
    "model.fit(x_train, y_train)\n",
    "\n",
    "#Training Data Prediction and Metrics\n",
    "#Predictions\n",
    "y_pred = model.predict(x_train)\n",
    "#Metrics\n",
    "print(f'The Metrics of the Ensembled Decision Tree Classifier Training model')\n",
    "print('R2 score',metrics.r2_score(y_train,y_pred))\n",
    "print()\n",
    "\n",
    "\n",
    "#Testing Data Prediction and Metrics\n",
    "#Predictions\n",
    "y_pred = model.predict(x_test)\n",
    "#Metrics\n",
    "print(f'The Metrics of the Ensembled Decision Tree Classifier Testing model')\n",
    "print('R2 score',metrics.r2_score(y_test,y_pred))\n",
    "print()\n",
    "\n"
   ]
  },
  {
   "cell_type": "markdown",
   "id": "bb15280f",
   "metadata": {
    "papermill": {
     "duration": null,
     "end_time": null,
     "exception": null,
     "start_time": null,
     "status": "pending"
    },
    "tags": []
   },
   "source": [
    "8. Cross Validation"
   ]
  },
  {
   "cell_type": "markdown",
   "id": "31a9b341",
   "metadata": {
    "papermill": {
     "duration": null,
     "end_time": null,
     "exception": null,
     "start_time": null,
     "status": "pending"
    },
    "tags": []
   },
   "source": [
    "kFold Cross Validation"
   ]
  },
  {
   "cell_type": "code",
   "execution_count": null,
   "id": "8cf00f4a",
   "metadata": {
    "execution": {
     "iopub.status.busy": "2022-04-15T09:59:24.168707Z",
     "iopub.status.idle": "2022-04-15T09:59:24.169112Z",
     "shell.execute_reply": "2022-04-15T09:59:24.168908Z",
     "shell.execute_reply.started": "2022-04-15T09:59:24.168886Z"
    },
    "papermill": {
     "duration": null,
     "end_time": null,
     "exception": null,
     "start_time": null,
     "status": "pending"
    },
    "tags": []
   },
   "outputs": [],
   "source": [
    "from sklearn.model_selection import cross_val_score\n",
    "\n",
    "def crossValidationScore(model):\n",
    "    score = cross_val_score(model,x_train,y_train, cv=10)\n",
    "    print(f'cross_val_score for {model}')\n",
    "    print(score)\n",
    "    print(score.mean())\n",
    "    print()\n",
    "    \n",
    "for model in MachineLearningAlgorithms:\n",
    "    crossValidationScore(model)\n",
    "    \n",
    "\n",
    "    "
   ]
  },
  {
   "cell_type": "markdown",
   "id": "ac1bb48b",
   "metadata": {
    "papermill": {
     "duration": null,
     "end_time": null,
     "exception": null,
     "start_time": null,
     "status": "pending"
    },
    "tags": []
   },
   "source": []
  }
 ],
 "metadata": {
  "kernelspec": {
   "display_name": "Python 3",
   "language": "python",
   "name": "python3"
  },
  "language_info": {
   "codemirror_mode": {
    "name": "ipython",
    "version": 3
   },
   "file_extension": ".py",
   "mimetype": "text/x-python",
   "name": "python",
   "nbconvert_exporter": "python",
   "pygments_lexer": "ipython3",
   "version": "3.7.12"
  },
  "papermill": {
   "default_parameters": {},
   "duration": 105.970186,
   "end_time": "2022-06-18T07:23:25.912745",
   "environment_variables": {},
   "exception": true,
   "input_path": "__notebook__.ipynb",
   "output_path": "__notebook__.ipynb",
   "parameters": {},
   "start_time": "2022-06-18T07:21:39.942559",
   "version": "2.3.3"
  }
 },
 "nbformat": 4,
 "nbformat_minor": 5
}
